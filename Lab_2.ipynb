{
  "nbformat": 4,
  "nbformat_minor": 0,
  "metadata": {
    "colab": {
      "name": "Lab_2.ipynb",
      "provenance": [],
      "authorship_tag": "ABX9TyMR/BzuLeAHw2GgL95HSMrF",
      "include_colab_link": true
    },
    "kernelspec": {
      "name": "python3",
      "display_name": "Python 3"
    }
  },
  "cells": [
    {
      "cell_type": "markdown",
      "metadata": {
        "id": "view-in-github",
        "colab_type": "text"
      },
      "source": [
        "<a href=\"https://colab.research.google.com/github/iam-pattan/DL-lab/blob/main/Lab_2.ipynb\" target=\"_parent\"><img src=\"https://colab.research.google.com/assets/colab-badge.svg\" alt=\"Open In Colab\"/></a>"
      ]
    },
    {
      "cell_type": "markdown",
      "metadata": {
        "id": "V1TxB8RN9Tx2"
      },
      "source": [
        "## LAB-2\n",
        "New_dataset"
      ]
    },
    {
      "cell_type": "code",
      "metadata": {
        "id": "319WXxYxyjKZ"
      },
      "source": [
        "# !wget 'https://archive.ics.uci.edu/ml/machine-learning-databases/00445/Absenteeism_at_work_AAA.zip'"
      ],
      "execution_count": null,
      "outputs": []
    },
    {
      "cell_type": "code",
      "metadata": {
        "id": "zhg-kcJLzMMa"
      },
      "source": [
        "# !unzip '/content/Absenteeism_at_work_AAA.zip'"
      ],
      "execution_count": null,
      "outputs": []
    },
    {
      "cell_type": "code",
      "metadata": {
        "colab": {
          "base_uri": "https://localhost:8080/"
        },
        "id": "mL6Ls0-quJCH",
        "outputId": "7f12b20d-0d12-4dc5-86be-6b8c0693ba25"
      },
      "source": [
        "from google.colab import drive\n",
        "drive.mount('/content/drive')"
      ],
      "execution_count": null,
      "outputs": [
        {
          "output_type": "stream",
          "text": [
            "Mounted at /content/drive\n"
          ],
          "name": "stdout"
        }
      ]
    },
    {
      "cell_type": "code",
      "metadata": {
        "id": "XRNmhnUezMI4",
        "colab": {
          "base_uri": "https://localhost:8080/",
          "height": 228
        },
        "outputId": "23ef9172-e65b-432c-f2a5-6b0f737b8552"
      },
      "source": [
        "import pandas as pd\n",
        "df = pd.read_excel('/content/drive/MyDrive/Colab Notebooks/Absenteeism_at_work.xls')\n",
        "df.head()"
      ],
      "execution_count": null,
      "outputs": [
        {
          "output_type": "execute_result",
          "data": {
            "text/html": [
              "<div>\n",
              "<style scoped>\n",
              "    .dataframe tbody tr th:only-of-type {\n",
              "        vertical-align: middle;\n",
              "    }\n",
              "\n",
              "    .dataframe tbody tr th {\n",
              "        vertical-align: top;\n",
              "    }\n",
              "\n",
              "    .dataframe thead th {\n",
              "        text-align: right;\n",
              "    }\n",
              "</style>\n",
              "<table border=\"1\" class=\"dataframe\">\n",
              "  <thead>\n",
              "    <tr style=\"text-align: right;\">\n",
              "      <th></th>\n",
              "      <th>ID</th>\n",
              "      <th>Reason for absence</th>\n",
              "      <th>Month of absence</th>\n",
              "      <th>Day of the week</th>\n",
              "      <th>Seasons</th>\n",
              "      <th>Transportation expense</th>\n",
              "      <th>Distance from Residence to Work</th>\n",
              "      <th>Service time</th>\n",
              "      <th>Age</th>\n",
              "      <th>Work load Average/day</th>\n",
              "      <th>Hit target</th>\n",
              "      <th>Disciplinary failure</th>\n",
              "      <th>Education</th>\n",
              "      <th>Son</th>\n",
              "      <th>Social drinker</th>\n",
              "      <th>Social smoker</th>\n",
              "      <th>Pet</th>\n",
              "      <th>Weight</th>\n",
              "      <th>Height</th>\n",
              "      <th>Body mass index</th>\n",
              "      <th>Absenteeism time in hours</th>\n",
              "    </tr>\n",
              "  </thead>\n",
              "  <tbody>\n",
              "    <tr>\n",
              "      <th>0</th>\n",
              "      <td>11</td>\n",
              "      <td>26</td>\n",
              "      <td>7</td>\n",
              "      <td>3</td>\n",
              "      <td>1</td>\n",
              "      <td>289</td>\n",
              "      <td>36</td>\n",
              "      <td>13</td>\n",
              "      <td>33</td>\n",
              "      <td>239554</td>\n",
              "      <td>97</td>\n",
              "      <td>0</td>\n",
              "      <td>1</td>\n",
              "      <td>2</td>\n",
              "      <td>1</td>\n",
              "      <td>0</td>\n",
              "      <td>1</td>\n",
              "      <td>90</td>\n",
              "      <td>172</td>\n",
              "      <td>30</td>\n",
              "      <td>4</td>\n",
              "    </tr>\n",
              "    <tr>\n",
              "      <th>1</th>\n",
              "      <td>36</td>\n",
              "      <td>0</td>\n",
              "      <td>7</td>\n",
              "      <td>3</td>\n",
              "      <td>1</td>\n",
              "      <td>118</td>\n",
              "      <td>13</td>\n",
              "      <td>18</td>\n",
              "      <td>50</td>\n",
              "      <td>239554</td>\n",
              "      <td>97</td>\n",
              "      <td>1</td>\n",
              "      <td>1</td>\n",
              "      <td>1</td>\n",
              "      <td>1</td>\n",
              "      <td>0</td>\n",
              "      <td>0</td>\n",
              "      <td>98</td>\n",
              "      <td>178</td>\n",
              "      <td>31</td>\n",
              "      <td>0</td>\n",
              "    </tr>\n",
              "    <tr>\n",
              "      <th>2</th>\n",
              "      <td>3</td>\n",
              "      <td>23</td>\n",
              "      <td>7</td>\n",
              "      <td>4</td>\n",
              "      <td>1</td>\n",
              "      <td>179</td>\n",
              "      <td>51</td>\n",
              "      <td>18</td>\n",
              "      <td>38</td>\n",
              "      <td>239554</td>\n",
              "      <td>97</td>\n",
              "      <td>0</td>\n",
              "      <td>1</td>\n",
              "      <td>0</td>\n",
              "      <td>1</td>\n",
              "      <td>0</td>\n",
              "      <td>0</td>\n",
              "      <td>89</td>\n",
              "      <td>170</td>\n",
              "      <td>31</td>\n",
              "      <td>2</td>\n",
              "    </tr>\n",
              "    <tr>\n",
              "      <th>3</th>\n",
              "      <td>7</td>\n",
              "      <td>7</td>\n",
              "      <td>7</td>\n",
              "      <td>5</td>\n",
              "      <td>1</td>\n",
              "      <td>279</td>\n",
              "      <td>5</td>\n",
              "      <td>14</td>\n",
              "      <td>39</td>\n",
              "      <td>239554</td>\n",
              "      <td>97</td>\n",
              "      <td>0</td>\n",
              "      <td>1</td>\n",
              "      <td>2</td>\n",
              "      <td>1</td>\n",
              "      <td>1</td>\n",
              "      <td>0</td>\n",
              "      <td>68</td>\n",
              "      <td>168</td>\n",
              "      <td>24</td>\n",
              "      <td>4</td>\n",
              "    </tr>\n",
              "    <tr>\n",
              "      <th>4</th>\n",
              "      <td>11</td>\n",
              "      <td>23</td>\n",
              "      <td>7</td>\n",
              "      <td>5</td>\n",
              "      <td>1</td>\n",
              "      <td>289</td>\n",
              "      <td>36</td>\n",
              "      <td>13</td>\n",
              "      <td>33</td>\n",
              "      <td>239554</td>\n",
              "      <td>97</td>\n",
              "      <td>0</td>\n",
              "      <td>1</td>\n",
              "      <td>2</td>\n",
              "      <td>1</td>\n",
              "      <td>0</td>\n",
              "      <td>1</td>\n",
              "      <td>90</td>\n",
              "      <td>172</td>\n",
              "      <td>30</td>\n",
              "      <td>2</td>\n",
              "    </tr>\n",
              "  </tbody>\n",
              "</table>\n",
              "</div>"
            ],
            "text/plain": [
              "   ID  Reason for absence  ...  Body mass index  Absenteeism time in hours\n",
              "0  11                  26  ...               30                          4\n",
              "1  36                   0  ...               31                          0\n",
              "2   3                  23  ...               31                          2\n",
              "3   7                   7  ...               24                          4\n",
              "4  11                  23  ...               30                          2\n",
              "\n",
              "[5 rows x 21 columns]"
            ]
          },
          "metadata": {
            "tags": []
          },
          "execution_count": 4
        }
      ]
    },
    {
      "cell_type": "code",
      "metadata": {
        "id": "LmiH7vbVzMUX"
      },
      "source": [
        "X = df.iloc[:,1:20]\n",
        "y = df.iloc[:,20:].values"
      ],
      "execution_count": null,
      "outputs": []
    },
    {
      "cell_type": "code",
      "metadata": {
        "id": "bjCYw2EHzMXA"
      },
      "source": [
        "from sklearn.model_selection import train_test_split\n",
        "\n",
        "X_train, X_test, y_train, y_test = train_test_split(\n",
        "    X, y, test_size=0.25, random_state=42)"
      ],
      "execution_count": null,
      "outputs": []
    },
    {
      "cell_type": "code",
      "metadata": {
        "id": "Myh7cFij4TEE",
        "colab": {
          "base_uri": "https://localhost:8080/"
        },
        "outputId": "17336381-1b21-4329-ad8a-73b913f1ba0c"
      },
      "source": [
        "X_train.shape, y_train.shape, X_test.shape, y_test.shape\n",
        "# X_train.isnull().sum()\n",
        "# X_train.values.shape"
      ],
      "execution_count": null,
      "outputs": [
        {
          "output_type": "execute_result",
          "data": {
            "text/plain": [
              "((555, 19), (555, 1), (185, 19), (185, 1))"
            ]
          },
          "metadata": {
            "tags": []
          },
          "execution_count": 7
        }
      ]
    },
    {
      "cell_type": "code",
      "metadata": {
        "id": "jNO6TUjP3dfy"
      },
      "source": [
        "from keras.models import Sequential\n",
        "from keras.layers import Dense\n",
        "from keras.wrappers.scikit_learn import KerasRegressor\n",
        "from sklearn.model_selection import cross_val_score\n",
        "from sklearn.model_selection import KFold"
      ],
      "execution_count": null,
      "outputs": []
    },
    {
      "cell_type": "code",
      "metadata": {
        "id": "LZRSpmB23_0j"
      },
      "source": [
        "# create model\n",
        "model = Sequential()\n",
        "model.add(Dense(128, input_dim=19, kernel_initializer='normal', activation='relu'))\n",
        "model.add(Dense(1, kernel_initializer='normal'))\n",
        "# Compile model\n",
        "model.compile(loss='mean_squared_error', optimizer='adam')"
      ],
      "execution_count": null,
      "outputs": []
    },
    {
      "cell_type": "code",
      "metadata": {
        "id": "2rQlsEGN3_2w",
        "colab": {
          "base_uri": "https://localhost:8080/"
        },
        "outputId": "37c28bb5-0501-4d32-c6bf-e1894c98a203"
      },
      "source": [
        "model.fit(X_train, y_train,epochs= 20)"
      ],
      "execution_count": null,
      "outputs": [
        {
          "output_type": "stream",
          "text": [
            "Epoch 1/20\n",
            "18/18 [==============================] - 0s 1ms/step - loss: 12700843.9474\n",
            "Epoch 2/20\n",
            "18/18 [==============================] - 0s 1ms/step - loss: 1245299.1447\n",
            "Epoch 3/20\n",
            "18/18 [==============================] - 0s 1ms/step - loss: 93292.8604\n",
            "Epoch 4/20\n",
            "18/18 [==============================] - 0s 1ms/step - loss: 31161.1980\n",
            "Epoch 5/20\n",
            "18/18 [==============================] - 0s 1ms/step - loss: 5556.4310\n",
            "Epoch 6/20\n",
            "18/18 [==============================] - 0s 1ms/step - loss: 1081.1389\n",
            "Epoch 7/20\n",
            "18/18 [==============================] - 0s 1ms/step - loss: 328.1655\n",
            "Epoch 8/20\n",
            "18/18 [==============================] - 0s 1ms/step - loss: 255.6362\n",
            "Epoch 9/20\n",
            "18/18 [==============================] - 0s 1ms/step - loss: 178.6077\n",
            "Epoch 10/20\n",
            "18/18 [==============================] - 0s 1ms/step - loss: 200.6202\n",
            "Epoch 11/20\n",
            "18/18 [==============================] - 0s 1ms/step - loss: 172.2204\n",
            "Epoch 12/20\n",
            "18/18 [==============================] - 0s 1ms/step - loss: 183.2415\n",
            "Epoch 13/20\n",
            "18/18 [==============================] - 0s 1ms/step - loss: 165.0637\n",
            "Epoch 14/20\n",
            "18/18 [==============================] - 0s 2ms/step - loss: 320.8961\n",
            "Epoch 15/20\n",
            "18/18 [==============================] - 0s 2ms/step - loss: 226.3760\n",
            "Epoch 16/20\n",
            "18/18 [==============================] - 0s 1ms/step - loss: 290.6307\n",
            "Epoch 17/20\n",
            "18/18 [==============================] - 0s 1ms/step - loss: 225.5749\n",
            "Epoch 18/20\n",
            "18/18 [==============================] - 0s 1ms/step - loss: 219.0238\n",
            "Epoch 19/20\n",
            "18/18 [==============================] - 0s 2ms/step - loss: 216.2780\n",
            "Epoch 20/20\n",
            "18/18 [==============================] - 0s 1ms/step - loss: 279.1921\n"
          ],
          "name": "stdout"
        },
        {
          "output_type": "execute_result",
          "data": {
            "text/plain": [
              "<tensorflow.python.keras.callbacks.History at 0x7f613ae75810>"
            ]
          },
          "metadata": {
            "tags": []
          },
          "execution_count": 19
        }
      ]
    },
    {
      "cell_type": "code",
      "metadata": {
        "id": "GnDXcF9s3_6E",
        "colab": {
          "base_uri": "https://localhost:8080/"
        },
        "outputId": "2e8e9898-fa29-483a-d1dd-24d0b652d060"
      },
      "source": [
        "model.evaluate(X_test,y_test)"
      ],
      "execution_count": null,
      "outputs": [
        {
          "output_type": "stream",
          "text": [
            "6/6 [==============================] - 0s 2ms/step - loss: 96.3411\n"
          ],
          "name": "stdout"
        },
        {
          "output_type": "execute_result",
          "data": {
            "text/plain": [
              "96.34107208251953"
            ]
          },
          "metadata": {
            "tags": []
          },
          "execution_count": 20
        }
      ]
    },
    {
      "cell_type": "code",
      "metadata": {
        "id": "PtuqUHCJmn9D",
        "colab": {
          "base_uri": "https://localhost:8080/"
        },
        "outputId": "9a646cbf-aa40-4755-c437-b2370835902c"
      },
      "source": [
        "from sklearn.svm import SVR\n",
        "\n",
        "svr_regressor = SVR(kernel='rbf')\n",
        "svr_regressor.fit(X,y.ravel())"
      ],
      "execution_count": null,
      "outputs": [
        {
          "output_type": "execute_result",
          "data": {
            "text/plain": [
              "SVR(C=1.0, cache_size=200, coef0=0.0, degree=3, epsilon=0.1, gamma='scale',\n",
              "    kernel='rbf', max_iter=-1, shrinking=True, tol=0.001, verbose=False)"
            ]
          },
          "metadata": {
            "tags": []
          },
          "execution_count": 21
        }
      ]
    },
    {
      "cell_type": "code",
      "metadata": {
        "id": "Nc2K86TEzMam"
      },
      "source": [
        "# from sklearn.preprocessing import StandardScaler, MinMaxScaler\n",
        "\n",
        "# # scaler = StandardScaler()\n",
        "# sclaer = MinMaxScaler()\n",
        "# dataframe1 = scaler.fit(df)\n",
        "# dataframe2 = scaler.transform(df)\n",
        "# dataframe2"
      ],
      "execution_count": null,
      "outputs": []
    },
    {
      "cell_type": "code",
      "metadata": {
        "id": "l38CaUiKn3g6"
      },
      "source": [
        "prediction = svr_regressor.predict(X)"
      ],
      "execution_count": null,
      "outputs": []
    },
    {
      "cell_type": "code",
      "metadata": {
        "id": "qEnosetroZPQ"
      },
      "source": [
        "y_pred = svr_regressor.predict(X_test)"
      ],
      "execution_count": null,
      "outputs": []
    },
    {
      "cell_type": "code",
      "metadata": {
        "id": "lfs-Ke7coM7u",
        "colab": {
          "base_uri": "https://localhost:8080/"
        },
        "outputId": "e8f2cc1e-6abf-47d5-b7d2-e8bba0858198"
      },
      "source": [
        "from sklearn.metrics import mean_squared_error, explained_variance_score\n",
        "\n",
        "print('MSE:{}'.format(mean_squared_error(y_test,y_pred)))\n",
        "print('Explained variance score:{}'.format(explained_variance_score(y_test,y_pred)))"
      ],
      "execution_count": null,
      "outputs": [
        {
          "output_type": "stream",
          "text": [
            "MSE:104.8086025638058\n",
            "Explained variance score:0.008020669732768382\n"
          ],
          "name": "stdout"
        }
      ]
    },
    {
      "cell_type": "markdown",
      "metadata": {
        "id": "mb7kOSCU5WK_"
      },
      "source": [
        "Achieved validation accuracy of `96.34%` on Absenteeism dataset.\n",
        "\n",
        "Input size of 19 columns are considered to predict the employees attendance using simple Perceptron.\n",
        "\n",
        "Tried using SVR."
      ]
    }
  ]
}