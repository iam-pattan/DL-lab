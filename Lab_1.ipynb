{
  "nbformat": 4,
  "nbformat_minor": 0,
  "metadata": {
    "colab": {
      "name": "Lab_1.ipynb",
      "provenance": [],
      "authorship_tag": "ABX9TyOFGGOdB77Kb3lhUAGVIdLK",
      "include_colab_link": true
    },
    "kernelspec": {
      "name": "python3",
      "display_name": "Python 3"
    }
  },
  "cells": [
    {
      "cell_type": "markdown",
      "metadata": {
        "id": "view-in-github",
        "colab_type": "text"
      },
      "source": [
        "<a href=\"https://colab.research.google.com/github/iam-pattan/DL-lab/blob/main/Lab_1.ipynb\" target=\"_parent\"><img src=\"https://colab.research.google.com/assets/colab-badge.svg\" alt=\"Open In Colab\"/></a>"
      ]
    },
    {
      "cell_type": "markdown",
      "metadata": {
        "id": "OPtXiydcvVHF"
      },
      "source": [
        "## LAB-1"
      ]
    },
    {
      "cell_type": "code",
      "metadata": {
        "id": "RfiHm4gS4KSq",
        "colab": {
          "base_uri": "https://localhost:8080/"
        },
        "outputId": "65e066a0-07b8-4f54-cc1f-faa5eb77b035"
      },
      "source": [
        "!pwd"
      ],
      "execution_count": null,
      "outputs": [
        {
          "output_type": "stream",
          "text": [
            "/content\n"
          ],
          "name": "stdout"
        }
      ]
    },
    {
      "cell_type": "code",
      "metadata": {
        "id": "68eWeRif4bt8"
      },
      "source": [
        "from google.colab import drive\n",
        "drive.mount('/content/drive')"
      ],
      "execution_count": null,
      "outputs": []
    },
    {
      "cell_type": "code",
      "metadata": {
        "id": "qTa2vQaW4dZu",
        "colab": {
          "base_uri": "https://localhost:8080/"
        },
        "outputId": "90ce0524-62b6-4bfd-c3f5-8c279eb04925"
      },
      "source": [
        "!ls"
      ],
      "execution_count": null,
      "outputs": [
        {
          "output_type": "stream",
          "text": [
            "sample_data\n"
          ],
          "name": "stdout"
        }
      ]
    },
    {
      "cell_type": "markdown",
      "metadata": {
        "id": "8Gwllhs56z4b"
      },
      "source": [
        "Linear regression done on the Boston housing dataset"
      ]
    },
    {
      "cell_type": "code",
      "metadata": {
        "id": "W4nJDpFK4lVb",
        "colab": {
          "base_uri": "https://localhost:8080/"
        },
        "outputId": "049d2a98-1f15-407c-cc15-ad5676eada22"
      },
      "source": [
        "from keras.datasets import boston_housing\n",
        "\n",
        "(x_train, y_train), (x_test, y_test) = boston_housing.load_data()"
      ],
      "execution_count": null,
      "outputs": [
        {
          "output_type": "stream",
          "text": [
            "Downloading data from https://storage.googleapis.com/tensorflow/tf-keras-datasets/boston_housing.npz\n",
            "57344/57026 [==============================] - 0s 0us/step\n"
          ],
          "name": "stdout"
        }
      ]
    },
    {
      "cell_type": "code",
      "metadata": {
        "id": "6f6EVjnq5U3V",
        "colab": {
          "base_uri": "https://localhost:8080/"
        },
        "outputId": "53b55851-317d-40bf-bbc8-0a6b452af67f"
      },
      "source": [
        "print(f'Training data : {x_train.shape}')\n",
        "print(f'Test data : {x_test.shape}')\n",
        "print(f'Training sample : {x_train[0]}')\n",
        "print(f'Training target sample : {x_train[0]}')"
      ],
      "execution_count": null,
      "outputs": [
        {
          "output_type": "stream",
          "text": [
            "Training data : (404, 13)\n",
            "Test data : (102, 13)\n",
            "Training sample : [  1.23247   0.        8.14      0.        0.538     6.142    91.7\n",
            "   3.9769    4.      307.       21.      396.9      18.72   ]\n",
            "Training target sample : [  1.23247   0.        8.14      0.        0.538     6.142    91.7\n",
            "   3.9769    4.      307.       21.      396.9      18.72   ]\n"
          ],
          "name": "stdout"
        }
      ]
    },
    {
      "cell_type": "code",
      "metadata": {
        "id": "syCMvZz05hgL"
      },
      "source": [
        "mean = x_train.mean(axis=0)\n",
        "x_train -= mean\n",
        "std = x_train.std(axis=0)\n",
        "x_train /= std\n",
        "\n",
        "x_test -= mean\n",
        "x_test /= std"
      ],
      "execution_count": null,
      "outputs": []
    },
    {
      "cell_type": "code",
      "metadata": {
        "id": "PZxPe3J74oYu"
      },
      "source": [
        "from keras.models import Sequential\n",
        "from keras.layers import Dense\n",
        "from keras.wrappers.scikit_learn import KerasRegressor\n",
        "from sklearn.model_selection import cross_val_score\n",
        "from sklearn.model_selection import KFold"
      ],
      "execution_count": null,
      "outputs": []
    },
    {
      "cell_type": "code",
      "metadata": {
        "id": "XdwcY43_4uSQ"
      },
      "source": [
        "# create model\n",
        "model = Sequential()\n",
        "model.add(Dense(13, input_dim=13, kernel_initializer='normal', activation='relu'))\n",
        "model.add(Dense(1, kernel_initializer='normal'))\n",
        "# Compile model\n",
        "model.compile(loss='rmse', optimizer='adam')"
      ],
      "execution_count": null,
      "outputs": []
    },
    {
      "cell_type": "code",
      "metadata": {
        "id": "LcaUQemx6XWT",
        "colab": {
          "base_uri": "https://localhost:8080/"
        },
        "outputId": "6db8da71-bf3c-4c67-b90a-fb5021b50a38"
      },
      "source": [
        "model.fit(x_train,y_train,epochs= 100)"
      ],
      "execution_count": null,
      "outputs": [
        {
          "output_type": "stream",
          "text": [
            "Epoch 1/100\n",
            "13/13 [==============================] - 0s 1ms/step - loss: 22.0811\n",
            "Epoch 2/100\n",
            "13/13 [==============================] - 0s 1ms/step - loss: 22.5345\n",
            "Epoch 3/100\n",
            "13/13 [==============================] - 0s 1ms/step - loss: 22.1484\n",
            "Epoch 4/100\n",
            "13/13 [==============================] - 0s 1ms/step - loss: 22.2764\n",
            "Epoch 5/100\n",
            "13/13 [==============================] - 0s 2ms/step - loss: 22.1144\n",
            "Epoch 6/100\n",
            "13/13 [==============================] - 0s 1ms/step - loss: 21.7554\n",
            "Epoch 7/100\n",
            "13/13 [==============================] - 0s 2ms/step - loss: 21.7350\n",
            "Epoch 8/100\n",
            "13/13 [==============================] - 0s 1ms/step - loss: 21.3832\n",
            "Epoch 9/100\n",
            "13/13 [==============================] - 0s 1ms/step - loss: 21.6005\n",
            "Epoch 10/100\n",
            "13/13 [==============================] - 0s 1ms/step - loss: 21.2916\n",
            "Epoch 11/100\n",
            "13/13 [==============================] - 0s 2ms/step - loss: 21.3863\n",
            "Epoch 12/100\n",
            "13/13 [==============================] - 0s 1ms/step - loss: 20.2163\n",
            "Epoch 13/100\n",
            "13/13 [==============================] - 0s 1ms/step - loss: 20.2643\n",
            "Epoch 14/100\n",
            "13/13 [==============================] - 0s 2ms/step - loss: 19.4328\n",
            "Epoch 15/100\n",
            "13/13 [==============================] - 0s 2ms/step - loss: 19.1114\n",
            "Epoch 16/100\n",
            "13/13 [==============================] - 0s 1ms/step - loss: 18.9898\n",
            "Epoch 17/100\n",
            "13/13 [==============================] - 0s 2ms/step - loss: 18.1255\n",
            "Epoch 18/100\n",
            "13/13 [==============================] - 0s 2ms/step - loss: 17.7000\n",
            "Epoch 19/100\n",
            "13/13 [==============================] - 0s 2ms/step - loss: 17.2364\n",
            "Epoch 20/100\n",
            "13/13 [==============================] - 0s 2ms/step - loss: 17.1167\n",
            "Epoch 21/100\n",
            "13/13 [==============================] - 0s 2ms/step - loss: 16.9106\n",
            "Epoch 22/100\n",
            "13/13 [==============================] - 0s 2ms/step - loss: 15.9281\n",
            "Epoch 23/100\n",
            "13/13 [==============================] - 0s 1ms/step - loss: 15.3474\n",
            "Epoch 24/100\n",
            "13/13 [==============================] - 0s 2ms/step - loss: 14.4802\n",
            "Epoch 25/100\n",
            "13/13 [==============================] - 0s 2ms/step - loss: 13.4408\n",
            "Epoch 26/100\n",
            "13/13 [==============================] - 0s 2ms/step - loss: 13.8510\n",
            "Epoch 27/100\n",
            "13/13 [==============================] - 0s 2ms/step - loss: 13.0494\n",
            "Epoch 28/100\n",
            "13/13 [==============================] - 0s 2ms/step - loss: 12.4752\n",
            "Epoch 29/100\n",
            "13/13 [==============================] - 0s 2ms/step - loss: 11.8816\n",
            "Epoch 30/100\n",
            "13/13 [==============================] - 0s 2ms/step - loss: 11.1154\n",
            "Epoch 31/100\n",
            "13/13 [==============================] - 0s 2ms/step - loss: 10.5194\n",
            "Epoch 32/100\n",
            "13/13 [==============================] - 0s 1ms/step - loss: 10.6406\n",
            "Epoch 33/100\n",
            "13/13 [==============================] - 0s 1ms/step - loss: 10.2671\n",
            "Epoch 34/100\n",
            "13/13 [==============================] - 0s 2ms/step - loss: 9.5708\n",
            "Epoch 35/100\n",
            "13/13 [==============================] - 0s 2ms/step - loss: 9.4154\n",
            "Epoch 36/100\n",
            "13/13 [==============================] - 0s 2ms/step - loss: 9.1319\n",
            "Epoch 37/100\n",
            "13/13 [==============================] - 0s 1ms/step - loss: 8.3289\n",
            "Epoch 38/100\n",
            "13/13 [==============================] - 0s 2ms/step - loss: 8.3417\n",
            "Epoch 39/100\n",
            "13/13 [==============================] - 0s 2ms/step - loss: 7.7499\n",
            "Epoch 40/100\n",
            "13/13 [==============================] - 0s 2ms/step - loss: 7.6553\n",
            "Epoch 41/100\n",
            "13/13 [==============================] - 0s 2ms/step - loss: 7.5784\n",
            "Epoch 42/100\n",
            "13/13 [==============================] - 0s 1ms/step - loss: 7.3060\n",
            "Epoch 43/100\n",
            "13/13 [==============================] - 0s 2ms/step - loss: 7.3484\n",
            "Epoch 44/100\n",
            "13/13 [==============================] - 0s 2ms/step - loss: 7.2023\n",
            "Epoch 45/100\n",
            "13/13 [==============================] - 0s 2ms/step - loss: 6.8120\n",
            "Epoch 46/100\n",
            "13/13 [==============================] - 0s 2ms/step - loss: 6.7258\n",
            "Epoch 47/100\n",
            "13/13 [==============================] - 0s 1ms/step - loss: 6.1075\n",
            "Epoch 48/100\n",
            "13/13 [==============================] - 0s 2ms/step - loss: 6.2486\n",
            "Epoch 49/100\n",
            "13/13 [==============================] - 0s 2ms/step - loss: 6.0989\n",
            "Epoch 50/100\n",
            "13/13 [==============================] - 0s 2ms/step - loss: 5.8725\n",
            "Epoch 51/100\n",
            "13/13 [==============================] - 0s 2ms/step - loss: 5.7968\n",
            "Epoch 52/100\n",
            "13/13 [==============================] - 0s 2ms/step - loss: 5.5811\n",
            "Epoch 53/100\n",
            "13/13 [==============================] - 0s 2ms/step - loss: 5.2183\n",
            "Epoch 54/100\n",
            "13/13 [==============================] - 0s 2ms/step - loss: 5.4542\n",
            "Epoch 55/100\n",
            "13/13 [==============================] - 0s 2ms/step - loss: 5.1841\n",
            "Epoch 56/100\n",
            "13/13 [==============================] - 0s 1ms/step - loss: 4.8344\n",
            "Epoch 57/100\n",
            "13/13 [==============================] - 0s 1ms/step - loss: 5.0968\n",
            "Epoch 58/100\n",
            "13/13 [==============================] - 0s 2ms/step - loss: 4.9651\n",
            "Epoch 59/100\n",
            "13/13 [==============================] - 0s 2ms/step - loss: 4.9578\n",
            "Epoch 60/100\n",
            "13/13 [==============================] - 0s 2ms/step - loss: 4.4641\n",
            "Epoch 61/100\n",
            "13/13 [==============================] - 0s 2ms/step - loss: 4.9890\n",
            "Epoch 62/100\n",
            "13/13 [==============================] - 0s 1ms/step - loss: 4.2503\n",
            "Epoch 63/100\n",
            "13/13 [==============================] - 0s 1ms/step - loss: 4.1425\n",
            "Epoch 64/100\n",
            "13/13 [==============================] - 0s 1ms/step - loss: 4.3164\n",
            "Epoch 65/100\n",
            "13/13 [==============================] - 0s 1ms/step - loss: 4.1907\n",
            "Epoch 66/100\n",
            "13/13 [==============================] - 0s 1ms/step - loss: 4.1532\n",
            "Epoch 67/100\n",
            "13/13 [==============================] - 0s 1ms/step - loss: 4.0856\n",
            "Epoch 68/100\n",
            "13/13 [==============================] - 0s 2ms/step - loss: 4.1799\n",
            "Epoch 69/100\n",
            "13/13 [==============================] - 0s 2ms/step - loss: 3.9631\n",
            "Epoch 70/100\n",
            "13/13 [==============================] - 0s 2ms/step - loss: 3.8259\n",
            "Epoch 71/100\n",
            "13/13 [==============================] - 0s 2ms/step - loss: 4.1563\n",
            "Epoch 72/100\n",
            "13/13 [==============================] - 0s 2ms/step - loss: 4.0198\n",
            "Epoch 73/100\n",
            "13/13 [==============================] - 0s 2ms/step - loss: 3.9045\n",
            "Epoch 74/100\n",
            "13/13 [==============================] - 0s 1ms/step - loss: 3.7168\n",
            "Epoch 75/100\n",
            "13/13 [==============================] - 0s 2ms/step - loss: 3.9009\n",
            "Epoch 76/100\n",
            "13/13 [==============================] - 0s 2ms/step - loss: 3.6366\n",
            "Epoch 77/100\n",
            "13/13 [==============================] - 0s 2ms/step - loss: 3.6039\n",
            "Epoch 78/100\n",
            "13/13 [==============================] - 0s 2ms/step - loss: 3.6128\n",
            "Epoch 79/100\n",
            "13/13 [==============================] - 0s 2ms/step - loss: 3.5583\n",
            "Epoch 80/100\n",
            "13/13 [==============================] - 0s 2ms/step - loss: 3.7580\n",
            "Epoch 81/100\n",
            "13/13 [==============================] - 0s 2ms/step - loss: 3.7691\n",
            "Epoch 82/100\n",
            "13/13 [==============================] - 0s 2ms/step - loss: 3.8632\n",
            "Epoch 83/100\n",
            "13/13 [==============================] - 0s 2ms/step - loss: 3.5669\n",
            "Epoch 84/100\n",
            "13/13 [==============================] - 0s 2ms/step - loss: 3.4047\n",
            "Epoch 85/100\n",
            "13/13 [==============================] - 0s 2ms/step - loss: 3.3270\n",
            "Epoch 86/100\n",
            "13/13 [==============================] - 0s 2ms/step - loss: 3.3576\n",
            "Epoch 87/100\n",
            "13/13 [==============================] - 0s 1ms/step - loss: 3.7140\n",
            "Epoch 88/100\n",
            "13/13 [==============================] - 0s 2ms/step - loss: 3.4774\n",
            "Epoch 89/100\n",
            "13/13 [==============================] - 0s 2ms/step - loss: 3.5709\n",
            "Epoch 90/100\n",
            "13/13 [==============================] - 0s 2ms/step - loss: 3.4547\n",
            "Epoch 91/100\n",
            "13/13 [==============================] - 0s 2ms/step - loss: 3.2612\n",
            "Epoch 92/100\n",
            "13/13 [==============================] - 0s 2ms/step - loss: 3.4480\n",
            "Epoch 93/100\n",
            "13/13 [==============================] - 0s 2ms/step - loss: 3.4795\n",
            "Epoch 94/100\n",
            "13/13 [==============================] - 0s 2ms/step - loss: 3.8535\n",
            "Epoch 95/100\n",
            "13/13 [==============================] - 0s 2ms/step - loss: 3.5597\n",
            "Epoch 96/100\n",
            "13/13 [==============================] - 0s 2ms/step - loss: 3.1720\n",
            "Epoch 97/100\n",
            "13/13 [==============================] - 0s 1ms/step - loss: 3.3471\n",
            "Epoch 98/100\n",
            "13/13 [==============================] - 0s 2ms/step - loss: 3.1985\n",
            "Epoch 99/100\n",
            "13/13 [==============================] - 0s 1ms/step - loss: 3.4588\n",
            "Epoch 100/100\n",
            "13/13 [==============================] - 0s 2ms/step - loss: 3.3111\n"
          ],
          "name": "stdout"
        },
        {
          "output_type": "execute_result",
          "data": {
            "text/plain": [
              "<tensorflow.python.keras.callbacks.History at 0x7f479d240910>"
            ]
          },
          "metadata": {
            "tags": []
          },
          "execution_count": 23
        }
      ]
    },
    {
      "cell_type": "code",
      "metadata": {
        "id": "62D1km2m6Zov",
        "colab": {
          "base_uri": "https://localhost:8080/"
        },
        "outputId": "cbecf703-4aa4-48cc-9add-6b8d4065c5a7"
      },
      "source": [
        "model.evaluate(x_test,y_test)"
      ],
      "execution_count": null,
      "outputs": [
        {
          "output_type": "stream",
          "text": [
            "4/4 [==============================] - 0s 3ms/step - loss: 4.2791\n"
          ],
          "name": "stdout"
        },
        {
          "output_type": "execute_result",
          "data": {
            "text/plain": [
              "4.279088020324707"
            ]
          },
          "metadata": {
            "tags": []
          },
          "execution_count": 24
        }
      ]
    },
    {
      "cell_type": "markdown",
      "metadata": {
        "id": "jjqMgZxctHTe"
      },
      "source": [
        "#### Got accuracy of 29.35 on Boston dataset\n",
        "\n",
        "\n",
        "Score of the model differ everytime as we train it. Because it is fed with different point of data using cross_validataion function. Like in the first runtime it's fed with 1-80 indexs in the 100 dataset next time it's fed with 20-100, 10-90...etc,. So the fit of the line changes as the accuracy."
      ]
    }
  ]
}