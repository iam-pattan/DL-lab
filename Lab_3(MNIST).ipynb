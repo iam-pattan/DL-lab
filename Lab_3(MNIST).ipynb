{
  "nbformat": 4,
  "nbformat_minor": 0,
  "metadata": {
    "colab": {
      "name": "Lab_3.ipynb",
      "provenance": [],
      "authorship_tag": "ABX9TyPSCZgQwjly2YWiW8B6CKL0",
      "include_colab_link": true
    },
    "kernelspec": {
      "name": "python3",
      "display_name": "Python 3"
    }
  },
  "cells": [
    {
      "cell_type": "markdown",
      "metadata": {
        "id": "view-in-github",
        "colab_type": "text"
      },
      "source": [
        "<a href=\"https://colab.research.google.com/github/iam-pattan/DL-lab/blob/main/Lab_3.ipynb\" target=\"_parent\"><img src=\"https://colab.research.google.com/assets/colab-badge.svg\" alt=\"Open In Colab\"/></a>"
      ]
    },
    {
      "cell_type": "markdown",
      "metadata": {
        "id": "Twmrsd8h6tHL"
      },
      "source": [
        "## LAB-3\n",
        "\n",
        "Using MNIST dataset\n"
      ]
    },
    {
      "cell_type": "code",
      "metadata": {
        "id": "y-RBWFwF6tHM"
      },
      "source": [
        "import tensorflow as tf"
      ],
      "execution_count": null,
      "outputs": []
    },
    {
      "cell_type": "code",
      "metadata": {
        "colab": {
          "base_uri": "https://localhost:8080/"
        },
        "id": "zrGgF3t06tHM",
        "outputId": "f5a0e8b5-2ceb-43ab-f387-ab680652f6d9"
      },
      "source": [
        " (x_train, y_train), (x_test, y_test) = tf.keras.datasets.mnist.load_data()"
      ],
      "execution_count": null,
      "outputs": [
        {
          "output_type": "stream",
          "text": [
            "Downloading data from https://storage.googleapis.com/tensorflow/tf-keras-datasets/mnist.npz\n",
            "11493376/11490434 [==============================] - 0s 0us/step\n"
          ],
          "name": "stdout"
        }
      ]
    },
    {
      "cell_type": "code",
      "metadata": {
        "colab": {
          "base_uri": "https://localhost:8080/"
        },
        "id": "ypdn3g6h6tHN",
        "outputId": "7dd21736-8169-4001-f87a-10510309f8f5"
      },
      "source": [
        " (x_train.shape, y_train.shape), (x_test.shape, y_test.shape)"
      ],
      "execution_count": null,
      "outputs": [
        {
          "output_type": "execute_result",
          "data": {
            "text/plain": [
              "(((60000, 28, 28), (60000,)), ((10000, 28, 28), (10000,)))"
            ]
          },
          "metadata": {
            "tags": []
          },
          "execution_count": 13
        }
      ]
    },
    {
      "cell_type": "code",
      "metadata": {
        "colab": {
          "base_uri": "https://localhost:8080/"
        },
        "id": "HtaR4BqS6tHN",
        "outputId": "f83909e2-fb04-4376-b060-b4ea36dd7bdf"
      },
      "source": [
        "# convert image range from 0-255 to 0-1.0\n",
        "x_train, x_test = x_train/255.0, x_test/255.0\n",
        "x_train.shape, x_test.shape"
      ],
      "execution_count": null,
      "outputs": [
        {
          "output_type": "execute_result",
          "data": {
            "text/plain": [
              "((60000, 28, 28), (10000, 28, 28))"
            ]
          },
          "metadata": {
            "tags": []
          },
          "execution_count": 14
        }
      ]
    },
    {
      "cell_type": "code",
      "metadata": {
        "id": "k_UAdind6tHO"
      },
      "source": [
        "model = tf.keras.models.Sequential([\n",
        "    tf.keras.layers.Flatten(input_shape=(28, 28)),\n",
        "    tf.keras.layers.Dense(128, activation=\"relu\"),\n",
        "    tf.keras.layers.Dense(64, activation=\"relu\"),\n",
        "    tf.keras.layers.Dense(32, activation=\"relu\"),\n",
        "    tf.keras.layers.LeakyReLU(alpha=0.3),\n",
        "    tf.keras.layers.Dense(10, activation=\"softmax\")\n",
        "])"
      ],
      "execution_count": null,
      "outputs": []
    },
    {
      "cell_type": "code",
      "metadata": {
        "id": "hCdOGDAB6tHO"
      },
      "source": [
        "loss_fn = tf.keras.losses.SparseCategoricalCrossentropy(from_logits=True)"
      ],
      "execution_count": null,
      "outputs": []
    },
    {
      "cell_type": "code",
      "metadata": {
        "id": "Sv6TMjO76tHP"
      },
      "source": [
        "optimizer_fn = tf.keras.optimizers.Adam(learning_rate=0.001)"
      ],
      "execution_count": null,
      "outputs": []
    },
    {
      "cell_type": "code",
      "metadata": {
        "id": "wW_B6sr16tHP"
      },
      "source": [
        "model.compile(optimizer=optimizer_fn,\n",
        "              loss=loss_fn,\n",
        "              metrics=['accuracy'])"
      ],
      "execution_count": null,
      "outputs": []
    },
    {
      "cell_type": "code",
      "metadata": {
        "colab": {
          "base_uri": "https://localhost:8080/"
        },
        "id": "OZLm8-Qq6tHP",
        "outputId": "5b0dd972-96ca-4070-afc1-2133fd12b7bf"
      },
      "source": [
        "history = model.fit(x_train, y_train, epochs=10, validation_data=(x_test, y_test))"
      ],
      "execution_count": null,
      "outputs": [
        {
          "output_type": "stream",
          "text": [
            "Epoch 1/10\n",
            "1875/1875 [==============================] - 4s 2ms/step - loss: 0.4625 - accuracy: 0.8610 - val_loss: 0.1349 - val_accuracy: 0.9573\n",
            "Epoch 2/10\n",
            "1875/1875 [==============================] - 4s 2ms/step - loss: 0.1109 - accuracy: 0.9663 - val_loss: 0.1016 - val_accuracy: 0.9704\n",
            "Epoch 3/10\n",
            "1875/1875 [==============================] - 4s 2ms/step - loss: 0.0757 - accuracy: 0.9764 - val_loss: 0.0976 - val_accuracy: 0.9697\n",
            "Epoch 4/10\n",
            "1875/1875 [==============================] - 4s 2ms/step - loss: 0.0558 - accuracy: 0.9819 - val_loss: 0.0812 - val_accuracy: 0.9751\n",
            "Epoch 5/10\n",
            "1875/1875 [==============================] - 4s 2ms/step - loss: 0.0448 - accuracy: 0.9858 - val_loss: 0.0704 - val_accuracy: 0.9780\n",
            "Epoch 6/10\n",
            "1875/1875 [==============================] - 4s 2ms/step - loss: 0.0347 - accuracy: 0.9887 - val_loss: 0.0842 - val_accuracy: 0.9767\n",
            "Epoch 7/10\n",
            "1875/1875 [==============================] - 4s 2ms/step - loss: 0.0318 - accuracy: 0.9896 - val_loss: 0.0820 - val_accuracy: 0.9760\n",
            "Epoch 8/10\n",
            "1875/1875 [==============================] - 4s 2ms/step - loss: 0.0249 - accuracy: 0.9918 - val_loss: 0.0941 - val_accuracy: 0.9753\n",
            "Epoch 9/10\n",
            "1875/1875 [==============================] - 4s 2ms/step - loss: 0.0256 - accuracy: 0.9919 - val_loss: 0.0892 - val_accuracy: 0.9773\n",
            "Epoch 10/10\n",
            "1875/1875 [==============================] - 4s 2ms/step - loss: 0.0209 - accuracy: 0.9936 - val_loss: 0.0806 - val_accuracy: 0.9801\n"
          ],
          "name": "stdout"
        }
      ]
    },
    {
      "cell_type": "code",
      "metadata": {
        "colab": {
          "base_uri": "https://localhost:8080/"
        },
        "id": "xeoN2vt-6tHP",
        "outputId": "510df4c3-4a77-4a45-b261-d46ba19da7b0"
      },
      "source": [
        "model.evaluate(x_test,  y_test, verbose=2)"
      ],
      "execution_count": null,
      "outputs": [
        {
          "output_type": "stream",
          "text": [
            "313/313 - 0s - loss: 0.0806 - accuracy: 0.9801\n"
          ],
          "name": "stdout"
        },
        {
          "output_type": "execute_result",
          "data": {
            "text/plain": [
              "[0.0806482657790184, 0.9800999760627747]"
            ]
          },
          "metadata": {
            "tags": []
          },
          "execution_count": 24
        }
      ]
    },
    {
      "cell_type": "markdown",
      "metadata": {
        "id": "Y8N0tXhi6tHQ"
      },
      "source": [
        "Training Accuracy of `99.36` is achieved.\n",
        "\n",
        "Validation Accuray of `98.01` is achieved here."
      ]
    },
    {
      "cell_type": "markdown",
      "metadata": {
        "id": "MAvOroQ_vqdM"
      },
      "source": [
        "#### Using cifar10"
      ]
    },
    {
      "cell_type": "code",
      "metadata": {
        "id": "MEOOycvapHUS"
      },
      "source": [
        "import tensorflow as tf"
      ],
      "execution_count": null,
      "outputs": []
    },
    {
      "cell_type": "code",
      "metadata": {
        "id": "gA808aG8pIMk",
        "colab": {
          "base_uri": "https://localhost:8080/"
        },
        "outputId": "7227f2d6-7e5b-4495-e47f-e168ec19238e"
      },
      "source": [
        " (x_train, y_train), (x_test, y_test) = tf.keras.datasets.cifar10.load_data()"
      ],
      "execution_count": null,
      "outputs": [
        {
          "output_type": "stream",
          "text": [
            "Downloading data from https://www.cs.toronto.edu/~kriz/cifar-10-python.tar.gz\n",
            "170500096/170498071 [==============================] - 4s 0us/step\n"
          ],
          "name": "stdout"
        }
      ]
    },
    {
      "cell_type": "code",
      "metadata": {
        "id": "TIBjHX3IpIji",
        "colab": {
          "base_uri": "https://localhost:8080/"
        },
        "outputId": "d678858e-c2ac-42f3-8c9e-4991d144e58a"
      },
      "source": [
        " (x_train.shape, y_train.shape), (x_test.shape, y_test.shape)"
      ],
      "execution_count": null,
      "outputs": [
        {
          "output_type": "execute_result",
          "data": {
            "text/plain": [
              "(((50000, 32, 32, 3), (50000, 1)), ((10000, 32, 32, 3), (10000, 1)))"
            ]
          },
          "metadata": {
            "tags": []
          },
          "execution_count": 3
        }
      ]
    },
    {
      "cell_type": "code",
      "metadata": {
        "id": "WAErj1TYpIy4",
        "colab": {
          "base_uri": "https://localhost:8080/"
        },
        "outputId": "282e5e6e-55c2-4ecd-e8e7-a34a187f1930"
      },
      "source": [
        "# convert image range from 0-255 to 0-1.0\n",
        "x_train, x_test = x_train/255.0, x_test/255.0\n",
        "x_train.shape, x_test.shape"
      ],
      "execution_count": null,
      "outputs": [
        {
          "output_type": "execute_result",
          "data": {
            "text/plain": [
              "((50000, 32, 32, 3), (10000, 32, 32, 3))"
            ]
          },
          "metadata": {
            "tags": []
          },
          "execution_count": 4
        }
      ]
    },
    {
      "cell_type": "code",
      "metadata": {
        "id": "j5YZcm2vrE_r"
      },
      "source": [
        "model = tf.keras.models.Sequential([\n",
        "    tf.keras.layers.Flatten(input_shape=(32, 32, 3)),\n",
        "    tf.keras.layers.Dense(128, activation=\"relu\"),\n",
        "    tf.keras.layers.Dense(64, activation=\"relu\"),\n",
        "    tf.keras.layers.Dense(32, activation=\"relu\"),\n",
        "    tf.keras.layers.LeakyReLU(alpha=0.3),\n",
        "    tf.keras.layers.Dense(10, activation=\"softmax\")\n",
        "])"
      ],
      "execution_count": null,
      "outputs": []
    },
    {
      "cell_type": "code",
      "metadata": {
        "id": "NymkttOorFYA"
      },
      "source": [
        "loss_fn = tf.keras.losses.SparseCategoricalCrossentropy(from_logits=True)"
      ],
      "execution_count": null,
      "outputs": []
    },
    {
      "cell_type": "code",
      "metadata": {
        "id": "5jmVs8MLrFmR"
      },
      "source": [
        "optimizer_fn = tf.keras.optimizers.Adam(learning_rate=0.001)"
      ],
      "execution_count": null,
      "outputs": []
    },
    {
      "cell_type": "code",
      "metadata": {
        "id": "6npip9izrFzS"
      },
      "source": [
        "model.compile(optimizer=optimizer_fn,\n",
        "              loss=loss_fn,\n",
        "              metrics=['accuracy'])"
      ],
      "execution_count": null,
      "outputs": []
    },
    {
      "cell_type": "code",
      "metadata": {
        "id": "x7pL67hnsJig",
        "colab": {
          "base_uri": "https://localhost:8080/"
        },
        "outputId": "2cc1ac04-ec58-4d13-eaae-9336f4ba39f9"
      },
      "source": [
        "history = model.fit(x_train, y_train, epochs=10, validation_data=(x_test, y_test))"
      ],
      "execution_count": null,
      "outputs": [
        {
          "output_type": "stream",
          "text": [
            "Epoch 1/10\n",
            "1563/1563 [==============================] - 7s 4ms/step - loss: 2.0003 - accuracy: 0.2665 - val_loss: 1.7911 - val_accuracy: 0.3558\n",
            "Epoch 2/10\n",
            "1563/1563 [==============================] - 5s 3ms/step - loss: 1.7326 - accuracy: 0.3759 - val_loss: 1.6815 - val_accuracy: 0.4058\n",
            "Epoch 3/10\n",
            "1563/1563 [==============================] - 5s 4ms/step - loss: 1.6430 - accuracy: 0.4132 - val_loss: 1.6006 - val_accuracy: 0.4285\n",
            "Epoch 4/10\n",
            "1563/1563 [==============================] - 6s 4ms/step - loss: 1.5881 - accuracy: 0.4306 - val_loss: 1.5605 - val_accuracy: 0.4402\n",
            "Epoch 5/10\n",
            "1563/1563 [==============================] - 6s 4ms/step - loss: 1.5529 - accuracy: 0.4448 - val_loss: 1.5692 - val_accuracy: 0.4293\n",
            "Epoch 6/10\n",
            "1563/1563 [==============================] - 6s 4ms/step - loss: 1.5206 - accuracy: 0.4526 - val_loss: 1.5676 - val_accuracy: 0.4332\n",
            "Epoch 7/10\n",
            "1563/1563 [==============================] - 5s 3ms/step - loss: 1.5070 - accuracy: 0.4620 - val_loss: 1.5171 - val_accuracy: 0.4576\n",
            "Epoch 8/10\n",
            "1563/1563 [==============================] - 6s 4ms/step - loss: 1.4822 - accuracy: 0.4705 - val_loss: 1.4902 - val_accuracy: 0.4695\n",
            "Epoch 9/10\n",
            "1563/1563 [==============================] - 5s 3ms/step - loss: 1.4581 - accuracy: 0.4758 - val_loss: 1.5413 - val_accuracy: 0.4492\n",
            "Epoch 10/10\n",
            "1563/1563 [==============================] - 6s 4ms/step - loss: 1.4479 - accuracy: 0.4834 - val_loss: 1.5294 - val_accuracy: 0.4566\n"
          ],
          "name": "stdout"
        }
      ]
    },
    {
      "cell_type": "code",
      "metadata": {
        "id": "QyUi7QsJsHCa",
        "colab": {
          "base_uri": "https://localhost:8080/"
        },
        "outputId": "cd8fd8d1-98a2-4bad-bf53-7ca11c95d1fa"
      },
      "source": [
        "model.evaluate(x_test,  y_test, verbose=2)"
      ],
      "execution_count": null,
      "outputs": [
        {
          "output_type": "stream",
          "text": [
            "313/313 - 0s - loss: 1.5294 - accuracy: 0.4566\n"
          ],
          "name": "stdout"
        },
        {
          "output_type": "execute_result",
          "data": {
            "text/plain": [
              "[1.5294157266616821, 0.45660001039505005]"
            ]
          },
          "metadata": {
            "tags": []
          },
          "execution_count": 11
        }
      ]
    },
    {
      "cell_type": "markdown",
      "metadata": {
        "id": "HF1lLRV2wSCE"
      },
      "source": [
        "Training Accuracy of `48.34` is achieved.\n",
        "\n",
        "Validation Accuray of `45.66` is achieved here."
      ]
    }
  ]
}
