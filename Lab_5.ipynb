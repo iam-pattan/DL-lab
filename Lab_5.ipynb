{
  "nbformat": 4,
  "nbformat_minor": 0,
  "metadata": {
    "colab": {
      "name": "Lab_5.ipynb",
      "provenance": [],
      "collapsed_sections": [
        "ADLgRuA0lFA-"
      ],
      "mount_file_id": "1X4HfMOJCdNs2eub8Ueu5Lt1U3XEpzWhC",
      "authorship_tag": "ABX9TyOefS99gmBhR3rD9fO94UPl",
      "include_colab_link": true
    },
    "kernelspec": {
      "name": "python3",
      "display_name": "Python 3"
    },
    "language_info": {
      "name": "python"
    },
    "accelerator": "GPU"
  },
  "cells": [
    {
      "cell_type": "markdown",
      "metadata": {
        "id": "view-in-github",
        "colab_type": "text"
      },
      "source": [
        "<a href=\"https://colab.research.google.com/github/iam-pattan/DL-lab/blob/main/Lab_5.ipynb\" target=\"_parent\"><img src=\"https://colab.research.google.com/assets/colab-badge.svg\" alt=\"Open In Colab\"/></a>"
      ]
    },
    {
      "cell_type": "markdown",
      "metadata": {
        "id": "rPky-ZYRopjG"
      },
      "source": [
        "https://towardsdatascience.com/a-comprehensive-hands-on-guide-to-transfer-learning-with-real-world-applications-in-deep-learning-212bf3b2f27a"
      ]
    },
    {
      "cell_type": "markdown",
      "metadata": {
        "id": "ADLgRuA0lFA-"
      },
      "source": [
        "## Code-1"
      ]
    },
    {
      "cell_type": "markdown",
      "metadata": {
        "id": "ZLsprh_tj2VM"
      },
      "source": [
        "https://analyticsindiamag.com/transfer-learning-for-multi-class-image-classification-using-deep-convolutional-neural-network/"
      ]
    },
    {
      "cell_type": "code",
      "metadata": {
        "id": "HY7uH2R-3OxJ"
      },
      "source": [
        "import numpy as np\n",
        "import pandas as pd\n",
        "from sklearn.utils.multiclass import unique_labels\n",
        "import os\n",
        "import matplotlib.pyplot as plt\n",
        "import matplotlib.image as mpimg\n",
        "import seaborn as sns\n",
        "import itertools\n",
        "from sklearn.model_selection import train_test_split\n",
        "from sklearn.metrics import confusion_matrix\n",
        "from keras import Sequential\n",
        "from keras.layers import Flatten, Dense, Dropout, BatchNormalization, Activation\n",
        "from keras.applications import VGG19 #For Transfer Learning\n",
        "from keras.preprocessing.image import ImageDataGenerator\n",
        "from keras.optimizers import SGD,Adam\n",
        "\n",
        "from keras.callbacks import ReduceLROnPlateau"
      ],
      "execution_count": null,
      "outputs": []
    },
    {
      "cell_type": "code",
      "metadata": {
        "colab": {
          "base_uri": "https://localhost:8080/"
        },
        "id": "ljwXKbus4Iev",
        "outputId": "effdb025-cf16-48a1-cf7a-380df59796ab"
      },
      "source": [
        "from keras.datasets import cifar10\n",
        "\n",
        "#Downloading the CIFAR dataset\n",
        "(x_train,y_train),(x_test,y_test)=cifar10.load_data()"
      ],
      "execution_count": null,
      "outputs": [
        {
          "output_type": "stream",
          "text": [
            "Downloading data from https://www.cs.toronto.edu/~kriz/cifar-10-python.tar.gz\n",
            "170500096/170498071 [==============================] - 6s 0us/step\n"
          ],
          "name": "stdout"
        }
      ]
    },
    {
      "cell_type": "code",
      "metadata": {
        "id": "EaXRXrqEdgf4"
      },
      "source": [
        "#defining training and test sets\n",
        "x_train,x_val,y_train,y_val=train_test_split(x_train,y_train,test_size=.3)"
      ],
      "execution_count": null,
      "outputs": []
    },
    {
      "cell_type": "code",
      "metadata": {
        "colab": {
          "base_uri": "https://localhost:8080/"
        },
        "id": "q3WbkTLI4Iss",
        "outputId": "d206ec04-d5a0-4e09-ebd8-6fb19ea2c2f4"
      },
      "source": [
        "x_train.shape, y_train.shape, x_test.shape, y_test.shape, x_val.shape, y_val.shape"
      ],
      "execution_count": null,
      "outputs": [
        {
          "output_type": "execute_result",
          "data": {
            "text/plain": [
              "((35000, 32, 32, 3),\n",
              " (35000, 1),\n",
              " (10000, 32, 32, 3),\n",
              " (10000, 1),\n",
              " (15000, 32, 32, 3),\n",
              " (15000, 1))"
            ]
          },
          "metadata": {
            "tags": []
          },
          "execution_count": 7
        }
      ]
    },
    {
      "cell_type": "code",
      "metadata": {
        "id": "qDrDmRKG4IzG"
      },
      "source": [
        "#One Hot Encoding\n",
        "from keras.utils import to_categorical\n",
        "\n",
        "y_train=to_categorical(y_train)\n",
        "y_val=to_categorical(y_val)\n",
        "y_test=to_categorical(y_test)"
      ],
      "execution_count": null,
      "outputs": []
    },
    {
      "cell_type": "code",
      "metadata": {
        "id": "gHhqZFwL4I5S"
      },
      "source": [
        "#Image Data Augmentation\n",
        "train_generator = ImageDataGenerator(rotation_range=2, horizontal_flip=True, zoom_range=.1)\n",
        "\n",
        "val_generator = ImageDataGenerator(rotation_range=2, horizontal_flip=True, zoom_range=.1)\n",
        "\n",
        "test_generator = ImageDataGenerator(rotation_range=2, horizontal_flip= True, zoom_range=.1)\n",
        "\n",
        "#Fitting the augmentation defined above to the data\n",
        "train_generator.fit(x_train)\n",
        "val_generator.fit(x_val)\n",
        "test_generator.fit(x_test)"
      ],
      "execution_count": null,
      "outputs": []
    },
    {
      "cell_type": "code",
      "metadata": {
        "id": "cT1f4-I05Jh2"
      },
      "source": [
        "#Learning Rate Annealer\n",
        "lrr= ReduceLROnPlateau(monitor='val_acc', factor=.01, patience=3, min_lr=1e-5)"
      ],
      "execution_count": null,
      "outputs": []
    },
    {
      "cell_type": "code",
      "metadata": {
        "colab": {
          "base_uri": "https://localhost:8080/"
        },
        "id": "VihUKPR-5Jv2",
        "outputId": "bd09d82e-6301-48fb-c277-9907a49a8751"
      },
      "source": [
        "#Defining the VGG Convolutional Neural Net\n",
        "base_model = VGG19(include_top = False, weights = 'imagenet', input_shape = (32,32,3), classes = y_train.shape[1])"
      ],
      "execution_count": null,
      "outputs": [
        {
          "output_type": "stream",
          "text": [
            "Downloading data from https://storage.googleapis.com/tensorflow/keras-applications/vgg19/vgg19_weights_tf_dim_ordering_tf_kernels_notop.h5\n",
            "80142336/80134624 [==============================] - 2s 0us/step\n"
          ],
          "name": "stdout"
        }
      ]
    },
    {
      "cell_type": "code",
      "metadata": {
        "id": "JUqqZGsh5J9D"
      },
      "source": [
        "model= Sequential()\n",
        "model.add(base_model) \n",
        "model.add(Flatten())"
      ],
      "execution_count": null,
      "outputs": []
    },
    {
      "cell_type": "code",
      "metadata": {
        "colab": {
          "base_uri": "https://localhost:8080/"
        },
        "id": "SWbXWba75KJD",
        "outputId": "3f2ea3ac-0ac6-4240-c219-258086ef6f6c"
      },
      "source": [
        "#Model summary\n",
        "model.summary()"
      ],
      "execution_count": null,
      "outputs": [
        {
          "output_type": "stream",
          "text": [
            "Model: \"sequential\"\n",
            "_________________________________________________________________\n",
            "Layer (type)                 Output Shape              Param #   \n",
            "=================================================================\n",
            "vgg19 (Functional)           (None, 1, 1, 512)         20024384  \n",
            "_________________________________________________________________\n",
            "flatten (Flatten)            (None, 512)               0         \n",
            "=================================================================\n",
            "Total params: 20,024,384\n",
            "Trainable params: 20,024,384\n",
            "Non-trainable params: 0\n",
            "_________________________________________________________________\n"
          ],
          "name": "stdout"
        }
      ]
    },
    {
      "cell_type": "code",
      "metadata": {
        "colab": {
          "base_uri": "https://localhost:8080/"
        },
        "id": "8nUdZU4T5KTC",
        "outputId": "56156b43-7c40-4730-e6c2-5f4a0d60a01f"
      },
      "source": [
        "#Adding the Dense layers along with activation and batch normalization\n",
        "model.add(Dense(1024,activation=('relu'),input_dim=512))\n",
        "model.add(Dense(512,activation=('relu'))) \n",
        "model.add(Dense(256,activation=('relu'))) \n",
        "model.add(Dense(128,activation=('relu')))\n",
        "model.add(Dropout(.3))\n",
        "\n",
        "#model.add(Dropout(.2))\n",
        "model.add(Dense(10,activation=('softmax'))) \n",
        "\n",
        "#Checking the final model summary\n",
        "model.summary()"
      ],
      "execution_count": null,
      "outputs": [
        {
          "output_type": "stream",
          "text": [
            "Model: \"sequential\"\n",
            "_________________________________________________________________\n",
            "Layer (type)                 Output Shape              Param #   \n",
            "=================================================================\n",
            "vgg19 (Functional)           (None, 1, 1, 512)         20024384  \n",
            "_________________________________________________________________\n",
            "flatten (Flatten)            (None, 512)               0         \n",
            "_________________________________________________________________\n",
            "dense (Dense)                (None, 1024)              525312    \n",
            "_________________________________________________________________\n",
            "dense_1 (Dense)              (None, 512)               524800    \n",
            "_________________________________________________________________\n",
            "dense_2 (Dense)              (None, 256)               131328    \n",
            "_________________________________________________________________\n",
            "dense_3 (Dense)              (None, 128)               32896     \n",
            "_________________________________________________________________\n",
            "dropout (Dropout)            (None, 128)               0         \n",
            "_________________________________________________________________\n",
            "dense_4 (Dense)              (None, 10)                1290      \n",
            "=================================================================\n",
            "Total params: 21,240,010\n",
            "Trainable params: 21,240,010\n",
            "Non-trainable params: 0\n",
            "_________________________________________________________________\n"
          ],
          "name": "stdout"
        }
      ]
    },
    {
      "cell_type": "code",
      "metadata": {
        "id": "n1dfn21X5Kc0"
      },
      "source": [
        "#Initializing the hyperparameters\n",
        "batch_size= 100\n",
        "epochs=5\n",
        "learn_rate=.001\n",
        "sgd=SGD(lr=learn_rate,momentum=.9,nesterov=False)\n",
        "adam=Adam(lr=learn_rate, beta_1=0.9, beta_2=0.999, epsilon=None, decay=0.0, amsgrad=False)\n",
        "model.compile(optimizer=sgd,loss='categorical_crossentropy',metrics=['accuracy'])"
      ],
      "execution_count": null,
      "outputs": []
    },
    {
      "cell_type": "code",
      "metadata": {
        "id": "1rJV3n7Z5Kma"
      },
      "source": [
        "#Training the model\n",
        "model.fit_generator(train_generator.flow(x_train, y_train, batch_size= batch_size), epochs = epochs, steps_per_epoch = x_train.shape[0]//batch_size, validation_data = val_generator.flow(x_val, y_val, batch_size = batch_size), validation_steps=250, callbacks=[lrr], verbose = 1)"
      ],
      "execution_count": null,
      "outputs": []
    },
    {
      "cell_type": "code",
      "metadata": {
        "id": "5YYzhIwU6Zs5"
      },
      "source": [
        "#Plotting the training and validation loss and accuracy\n",
        "f,ax=plt.subplots(2,1) \n",
        "\n",
        "#Loss\n",
        "ax[0].plot(model.history.history['loss'],color='b',label='Training Loss')\n",
        "ax[0].plot(model.history.history['val_loss'],color='r',label='Validation Loss')\n",
        "\n",
        "#Accuracy\n",
        "ax[1].plot(model.history.history['accuracy'],color='b',label='Training  Accuracy')\n",
        "ax[1].plot(model.history.history['val_accuracy'],color='r',label='Validation Accuracy')"
      ],
      "execution_count": null,
      "outputs": []
    },
    {
      "cell_type": "code",
      "metadata": {
        "id": "8KK8NozG6Z1x"
      },
      "source": [
        "#Making prediction\n",
        "y_pred=model.predict_classes(x_test)\n",
        "y_true=np.argmax(y_test,axis=1)"
      ],
      "execution_count": null,
      "outputs": []
    },
    {
      "cell_type": "code",
      "metadata": {
        "id": "YoJ70DFb6Z-s"
      },
      "source": [
        ""
      ],
      "execution_count": null,
      "outputs": []
    },
    {
      "cell_type": "markdown",
      "metadata": {
        "id": "6WAxtTkWlI8w"
      },
      "source": [
        "## Code-2"
      ]
    },
    {
      "cell_type": "code",
      "metadata": {
        "id": "GnsgNMaA6aHO"
      },
      "source": [
        "import numpy as np\n",
        "import pandas as pd\n",
        "import matplotlib.pyplot as plt\n",
        "from sklearn.model_selection import train_test_split\n",
        "from sklearn.metrics import confusion_matrix\n",
        "from keras import Sequential\n",
        "import tensorflow_datasets as tfds\n",
        "from keras.layers import Flatten, Dense, Dropout, BatchNormalization, Activation\n",
        "from keras.applications import VGG19 #For Transfer Learning\n",
        "from keras.preprocessing.image import ImageDataGenerator\n",
        "from keras.optimizers import SGD,Adam"
      ],
      "execution_count": null,
      "outputs": []
    },
    {
      "cell_type": "code",
      "metadata": {
        "colab": {
          "base_uri": "https://localhost:8080/"
        },
        "id": "RJ3cXOoTW7oB",
        "outputId": "8f6c418a-45ad-44e0-9565-4228342f9a44"
      },
      "source": [
        "!wget 'https://github.com/krishnaik06/Deep-Learning-Car-Brand/raw/master/Datasets.zip'"
      ],
      "execution_count": null,
      "outputs": [
        {
          "output_type": "stream",
          "text": [
            "--2021-03-24 08:32:00--  https://github.com/krishnaik06/Deep-Learning-Car-Brand/raw/master/Datasets.zip\n",
            "Resolving github.com (github.com)... 140.82.121.4\n",
            "Connecting to github.com (github.com)|140.82.121.4|:443... connected.\n",
            "HTTP request sent, awaiting response... 302 Found\n",
            "Location: https://raw.githubusercontent.com/krishnaik06/Deep-Learning-Car-Brand/master/Datasets.zip [following]\n",
            "--2021-03-24 08:32:00--  https://raw.githubusercontent.com/krishnaik06/Deep-Learning-Car-Brand/master/Datasets.zip\n",
            "Resolving raw.githubusercontent.com (raw.githubusercontent.com)... 185.199.111.133, 185.199.110.133, 185.199.108.133, ...\n",
            "Connecting to raw.githubusercontent.com (raw.githubusercontent.com)|185.199.111.133|:443... connected.\n",
            "HTTP request sent, awaiting response... 200 OK\n",
            "Length: 1106994 (1.1M) [application/zip]\n",
            "Saving to: ‘Datasets.zip’\n",
            "\n",
            "\rDatasets.zip          0%[                    ]       0  --.-KB/s               \rDatasets.zip        100%[===================>]   1.06M  --.-KB/s    in 0.05s   \n",
            "\n",
            "2021-03-24 08:32:00 (22.1 MB/s) - ‘Datasets.zip’ saved [1106994/1106994]\n",
            "\n"
          ],
          "name": "stdout"
        }
      ]
    },
    {
      "cell_type": "code",
      "metadata": {
        "id": "eQ44iGWTXOuY"
      },
      "source": [
        "!unzip /content/Datasets.zip"
      ],
      "execution_count": null,
      "outputs": []
    },
    {
      "cell_type": "code",
      "metadata": {
        "id": "xVj9k7XH6aYV"
      },
      "source": [
        "#defining training and test sets\n",
        "train_pth = '/content/Datasets/Train/'\n",
        "test_pth = '/content/Datasets/Test/'"
      ],
      "execution_count": null,
      "outputs": []
    },
    {
      "cell_type": "code",
      "metadata": {
        "colab": {
          "base_uri": "https://localhost:8080/"
        },
        "id": "RJace4ocX_Be",
        "outputId": "a1997d4f-8126-4bb5-801c-c1d0b851c69b"
      },
      "source": [
        "from glob import glob\n",
        "train = glob(train_pth+'/*')\n",
        "len(train)"
      ],
      "execution_count": null,
      "outputs": [
        {
          "output_type": "execute_result",
          "data": {
            "text/plain": [
              "3"
            ]
          },
          "metadata": {
            "tags": []
          },
          "execution_count": 255
        }
      ]
    },
    {
      "cell_type": "code",
      "metadata": {
        "colab": {
          "base_uri": "https://localhost:8080/"
        },
        "id": "SgD-p8EbLJwj",
        "outputId": "fdc0572a-bece-4887-d5df-b3942e6beb93"
      },
      "source": [
        "train_gen = ImageDataGenerator( rescale=1./255).flow_from_directory(train_pth, target_size=(224,224), classes=['lamborghini', 'audi', 'mercedes'])\n",
        "test_gen = ImageDataGenerator( rescale=1./255).flow_from_directory(test_pth, target_size=(224,224), classes=['lamborghini', 'audi', 'mercedes'])"
      ],
      "execution_count": null,
      "outputs": [
        {
          "output_type": "stream",
          "text": [
            "Found 64 images belonging to 3 classes.\n",
            "Found 58 images belonging to 3 classes.\n"
          ],
          "name": "stdout"
        }
      ]
    },
    {
      "cell_type": "code",
      "metadata": {
        "id": "DjXhb9KSakhx"
      },
      "source": [
        "from keras.applications import MobileNet\n",
        "\n",
        "mobnet = MobileNet()\n",
        "vgg = VGG19(weights='imagenet', include_top=False)"
      ],
      "execution_count": null,
      "outputs": []
    },
    {
      "cell_type": "code",
      "metadata": {
        "id": "u6n0NjnWOe6q"
      },
      "source": [
        "for layer in mobnet.layers:\n",
        "    layer.trainable = False\n",
        "\n",
        "for layer in vgg.layers:\n",
        "    layer.trainable = False  "
      ],
      "execution_count": null,
      "outputs": []
    },
    {
      "cell_type": "code",
      "metadata": {
        "id": "RLqeZQ2ym5_v"
      },
      "source": [
        "model = Sequential()\n",
        "for layers in mobnet.layers:\n",
        "  model.add(layers)\n",
        "\n",
        "model.add(Flatten())\n",
        "model.add(Dense(len(train), activation='softmax'))\n",
        "# model.summary()\n",
        "\n",
        "\n",
        "fc = Flatten()(vgg.output)\n",
        "final_layer = Dense(len(train), activation='softmax')(fc)\n",
        "model_vgg = Model(vgg.input, final_layer)\n",
        "model_vgg.summary()"
      ],
      "execution_count": null,
      "outputs": []
    },
    {
      "cell_type": "code",
      "metadata": {
        "id": "ubIlZI3jiAww"
      },
      "source": [
        "import keras.optimizers as opt \n",
        "dir(opt)\n",
        "optim = opt.Adam()"
      ],
      "execution_count": null,
      "outputs": []
    },
    {
      "cell_type": "code",
      "metadata": {
        "id": "Hye5vESeri_o"
      },
      "source": [
        "optim1 = opt.Nadam()"
      ],
      "execution_count": null,
      "outputs": []
    },
    {
      "cell_type": "code",
      "metadata": {
        "id": "UUzTanY_lVCG"
      },
      "source": [
        "optim2 = tfa.optimizers.AdamW(0.01)"
      ],
      "execution_count": null,
      "outputs": []
    },
    {
      "cell_type": "code",
      "metadata": {
        "id": "bPSipF1-oL9Z"
      },
      "source": [
        "# !pip install keras-adabound\n",
        "from keras_adabound import AdaBound\n",
        "\n",
        "optim3=AdaBound(lr=1e-3, final_lr=0.1)"
      ],
      "execution_count": null,
      "outputs": []
    },
    {
      "cell_type": "code",
      "metadata": {
        "id": "JsfHdm8kMU-U"
      },
      "source": [
        "model.compile(\n",
        "    optimizer = 'SGD',\n",
        "    loss = 'categorical_crossentropy',\n",
        "    metrics = ['accuracy']\n",
        ")\n",
        "\n",
        "model_vgg.compile(\n",
        "    optimizer = 'adam',\n",
        "    loss = 'categorical_crossentropy',\n",
        "    metrics = ['accuracy']\n",
        ")"
      ],
      "execution_count": null,
      "outputs": []
    },
    {
      "cell_type": "code",
      "metadata": {
        "colab": {
          "base_uri": "https://localhost:8080/"
        },
        "id": "LGFzhedgMaAT",
        "outputId": "d84425a8-0397-4cc7-e2cc-89af1bd5521e"
      },
      "source": [
        "  history = model.fit_generator(train_gen, epochs=50, validation_data = test_gen)"
      ],
      "execution_count": null,
      "outputs": [
        {
          "output_type": "stream",
          "text": [
            "/usr/local/lib/python3.7/dist-packages/tensorflow/python/keras/engine/training.py:1844: UserWarning: `Model.fit_generator` is deprecated and will be removed in a future version. Please use `Model.fit`, which supports generators.\n",
            "  warnings.warn('`Model.fit_generator` is deprecated and '\n"
          ],
          "name": "stderr"
        },
        {
          "output_type": "stream",
          "text": [
            "Epoch 1/50\n",
            "2/2 [==============================] - 2s 701ms/step - loss: 1.0843 - accuracy: 0.5417 - val_loss: 1.0841 - val_accuracy: 0.6379\n",
            "Epoch 2/50\n",
            "2/2 [==============================] - 0s 217ms/step - loss: 1.0851 - accuracy: 0.5000 - val_loss: 1.0836 - val_accuracy: 0.6379\n",
            "Epoch 3/50\n",
            "2/2 [==============================] - 0s 219ms/step - loss: 1.0843 - accuracy: 0.5104 - val_loss: 1.0830 - val_accuracy: 0.6379\n",
            "Epoch 4/50\n",
            "2/2 [==============================] - 0s 216ms/step - loss: 1.0834 - accuracy: 0.5208 - val_loss: 1.0825 - val_accuracy: 0.6379\n",
            "Epoch 5/50\n",
            "2/2 [==============================] - 0s 222ms/step - loss: 1.0799 - accuracy: 0.5625 - val_loss: 1.0819 - val_accuracy: 0.6379\n",
            "Epoch 6/50\n",
            "2/2 [==============================] - 0s 225ms/step - loss: 1.0792 - accuracy: 0.5625 - val_loss: 1.0814 - val_accuracy: 0.6379\n",
            "Epoch 7/50\n",
            "2/2 [==============================] - 0s 221ms/step - loss: 1.0818 - accuracy: 0.5208 - val_loss: 1.0809 - val_accuracy: 0.6379\n",
            "Epoch 8/50\n",
            "2/2 [==============================] - 0s 212ms/step - loss: 1.0825 - accuracy: 0.5000 - val_loss: 1.0803 - val_accuracy: 0.6379\n",
            "Epoch 9/50\n",
            "2/2 [==============================] - 0s 215ms/step - loss: 1.0799 - accuracy: 0.5312 - val_loss: 1.0798 - val_accuracy: 0.6379\n",
            "Epoch 10/50\n",
            "2/2 [==============================] - 0s 212ms/step - loss: 1.0791 - accuracy: 0.5417 - val_loss: 1.0793 - val_accuracy: 0.6379\n",
            "Epoch 11/50\n",
            "2/2 [==============================] - 0s 215ms/step - loss: 1.0764 - accuracy: 0.5729 - val_loss: 1.0787 - val_accuracy: 0.6552\n",
            "Epoch 12/50\n",
            "2/2 [==============================] - 0s 218ms/step - loss: 1.0811 - accuracy: 0.5000 - val_loss: 1.0782 - val_accuracy: 0.6552\n",
            "Epoch 13/50\n",
            "2/2 [==============================] - 0s 222ms/step - loss: 1.0755 - accuracy: 0.5521 - val_loss: 1.0777 - val_accuracy: 0.6552\n",
            "Epoch 14/50\n",
            "2/2 [==============================] - 0s 221ms/step - loss: 1.0774 - accuracy: 0.5417 - val_loss: 1.0772 - val_accuracy: 0.6552\n",
            "Epoch 15/50\n",
            "2/2 [==============================] - 0s 214ms/step - loss: 1.0771 - accuracy: 0.5521 - val_loss: 1.0767 - val_accuracy: 0.6379\n",
            "Epoch 16/50\n",
            "2/2 [==============================] - 0s 215ms/step - loss: 1.0785 - accuracy: 0.4688 - val_loss: 1.0762 - val_accuracy: 0.6379\n",
            "Epoch 17/50\n",
            "2/2 [==============================] - 0s 219ms/step - loss: 1.0757 - accuracy: 0.5104 - val_loss: 1.0757 - val_accuracy: 0.6379\n",
            "Epoch 18/50\n",
            "2/2 [==============================] - 0s 216ms/step - loss: 1.0763 - accuracy: 0.5000 - val_loss: 1.0752 - val_accuracy: 0.6379\n",
            "Epoch 19/50\n",
            "2/2 [==============================] - 0s 217ms/step - loss: 1.0751 - accuracy: 0.5104 - val_loss: 1.0747 - val_accuracy: 0.6379\n",
            "Epoch 20/50\n",
            "2/2 [==============================] - 0s 221ms/step - loss: 1.0724 - accuracy: 0.5417 - val_loss: 1.0742 - val_accuracy: 0.6379\n",
            "Epoch 21/50\n",
            "2/2 [==============================] - 0s 218ms/step - loss: 1.0751 - accuracy: 0.5000 - val_loss: 1.0737 - val_accuracy: 0.6379\n",
            "Epoch 22/50\n",
            "2/2 [==============================] - 0s 215ms/step - loss: 1.0748 - accuracy: 0.5312 - val_loss: 1.0732 - val_accuracy: 0.6379\n",
            "Epoch 23/50\n",
            "2/2 [==============================] - 0s 217ms/step - loss: 1.0721 - accuracy: 0.5312 - val_loss: 1.0727 - val_accuracy: 0.6379\n",
            "Epoch 24/50\n",
            "2/2 [==============================] - 0s 213ms/step - loss: 1.0710 - accuracy: 0.5208 - val_loss: 1.0722 - val_accuracy: 0.6379\n",
            "Epoch 25/50\n",
            "2/2 [==============================] - 0s 216ms/step - loss: 1.0735 - accuracy: 0.5104 - val_loss: 1.0717 - val_accuracy: 0.6379\n",
            "Epoch 26/50\n",
            "2/2 [==============================] - 0s 217ms/step - loss: 1.0723 - accuracy: 0.5208 - val_loss: 1.0712 - val_accuracy: 0.6379\n",
            "Epoch 27/50\n",
            "2/2 [==============================] - 0s 212ms/step - loss: 1.0699 - accuracy: 0.5312 - val_loss: 1.0707 - val_accuracy: 0.6379\n",
            "Epoch 28/50\n",
            "2/2 [==============================] - 0s 218ms/step - loss: 1.0722 - accuracy: 0.4896 - val_loss: 1.0702 - val_accuracy: 0.6379\n",
            "Epoch 29/50\n",
            "2/2 [==============================] - 0s 218ms/step - loss: 1.0683 - accuracy: 0.5417 - val_loss: 1.0698 - val_accuracy: 0.6379\n",
            "Epoch 30/50\n",
            "2/2 [==============================] - 0s 229ms/step - loss: 1.0715 - accuracy: 0.5000 - val_loss: 1.0693 - val_accuracy: 0.6379\n",
            "Epoch 31/50\n",
            "2/2 [==============================] - 0s 222ms/step - loss: 1.0707 - accuracy: 0.5000 - val_loss: 1.0688 - val_accuracy: 0.6379\n",
            "Epoch 32/50\n",
            "2/2 [==============================] - 0s 218ms/step - loss: 1.0661 - accuracy: 0.5729 - val_loss: 1.0684 - val_accuracy: 0.6379\n",
            "Epoch 33/50\n",
            "2/2 [==============================] - 0s 219ms/step - loss: 1.0676 - accuracy: 0.5208 - val_loss: 1.0679 - val_accuracy: 0.6379\n",
            "Epoch 34/50\n",
            "2/2 [==============================] - 0s 227ms/step - loss: 1.0702 - accuracy: 0.5000 - val_loss: 1.0674 - val_accuracy: 0.6379\n",
            "Epoch 35/50\n",
            "2/2 [==============================] - 0s 221ms/step - loss: 1.0701 - accuracy: 0.5104 - val_loss: 1.0670 - val_accuracy: 0.6379\n",
            "Epoch 36/50\n",
            "2/2 [==============================] - 0s 220ms/step - loss: 1.0637 - accuracy: 0.5521 - val_loss: 1.0665 - val_accuracy: 0.6379\n",
            "Epoch 37/50\n",
            "2/2 [==============================] - 0s 219ms/step - loss: 1.0657 - accuracy: 0.5208 - val_loss: 1.0660 - val_accuracy: 0.6379\n",
            "Epoch 38/50\n",
            "2/2 [==============================] - 0s 219ms/step - loss: 1.0654 - accuracy: 0.5417 - val_loss: 1.0656 - val_accuracy: 0.6379\n",
            "Epoch 39/50\n",
            "2/2 [==============================] - 0s 214ms/step - loss: 1.0638 - accuracy: 0.5417 - val_loss: 1.0651 - val_accuracy: 0.6379\n",
            "Epoch 40/50\n",
            "2/2 [==============================] - 0s 216ms/step - loss: 1.0691 - accuracy: 0.4896 - val_loss: 1.0647 - val_accuracy: 0.6379\n",
            "Epoch 41/50\n",
            "2/2 [==============================] - 0s 224ms/step - loss: 1.0684 - accuracy: 0.5104 - val_loss: 1.0642 - val_accuracy: 0.6379\n",
            "Epoch 42/50\n",
            "2/2 [==============================] - 0s 212ms/step - loss: 1.0649 - accuracy: 0.5208 - val_loss: 1.0638 - val_accuracy: 0.6379\n",
            "Epoch 43/50\n",
            "2/2 [==============================] - 0s 220ms/step - loss: 1.0621 - accuracy: 0.5312 - val_loss: 1.0633 - val_accuracy: 0.6379\n",
            "Epoch 44/50\n",
            "2/2 [==============================] - 0s 215ms/step - loss: 1.0656 - accuracy: 0.4792 - val_loss: 1.0629 - val_accuracy: 0.6379\n",
            "Epoch 45/50\n",
            "2/2 [==============================] - 0s 211ms/step - loss: 1.0659 - accuracy: 0.5104 - val_loss: 1.0624 - val_accuracy: 0.6379\n",
            "Epoch 46/50\n",
            "2/2 [==============================] - 0s 220ms/step - loss: 1.0646 - accuracy: 0.5208 - val_loss: 1.0620 - val_accuracy: 0.6379\n",
            "Epoch 47/50\n",
            "2/2 [==============================] - 0s 229ms/step - loss: 1.0667 - accuracy: 0.5000 - val_loss: 1.0615 - val_accuracy: 0.6379\n",
            "Epoch 48/50\n",
            "2/2 [==============================] - 0s 224ms/step - loss: 1.0648 - accuracy: 0.5312 - val_loss: 1.0611 - val_accuracy: 0.6379\n",
            "Epoch 49/50\n",
            "2/2 [==============================] - 0s 229ms/step - loss: 1.0585 - accuracy: 0.5521 - val_loss: 1.0607 - val_accuracy: 0.6379\n",
            "Epoch 50/50\n",
            "2/2 [==============================] - 0s 217ms/step - loss: 1.0582 - accuracy: 0.5521 - val_loss: 1.0602 - val_accuracy: 0.6207\n"
          ],
          "name": "stdout"
        }
      ]
    },
    {
      "cell_type": "markdown",
      "metadata": {
        "id": "cMCJu6D7sl5m"
      },
      "source": [
        "-> Adam is giving train `77.08` and test `67.24` \n",
        "\n",
        "-> AdamW is giving train `71.8` and test `62.07`\n",
        "\n",
        "-> Nadam is giving train `67.7` and test `63.79`\n",
        "\n",
        "-> Adabound is giving train `63.5` and test `67.24`\n",
        "\n",
        "-> SGD is giving train `61.46` and test `62.07`"
      ]
    },
    {
      "cell_type": "code",
      "metadata": {
        "colab": {
          "base_uri": "https://localhost:8080/",
          "height": 945
        },
        "id": "qQZkERVlxmoL",
        "outputId": "b622fcd5-60cd-4663-8ce9-51d9b1dfbb62"
      },
      "source": [
        "history_vgg = model_vgg.fit_generator(train_gen, epochs=50, validation_data = test_gen)"
      ],
      "execution_count": null,
      "outputs": [
        {
          "output_type": "stream",
          "text": [
            "/usr/local/lib/python3.7/dist-packages/tensorflow/python/keras/engine/training.py:1844: UserWarning: `Model.fit_generator` is deprecated and will be removed in a future version. Please use `Model.fit`, which supports generators.\n",
            "  warnings.warn('`Model.fit_generator` is deprecated and '\n"
          ],
          "name": "stderr"
        },
        {
          "output_type": "stream",
          "text": [
            "Epoch 1/50\n",
            "2/2 [==============================] - 3s 754ms/step - loss: 1.0989 - accuracy: 0.2917 - val_loss: 1.1156 - val_accuracy: 0.1552\n",
            "Epoch 2/50\n",
            "2/2 [==============================] - 1s 490ms/step - loss: 1.0960 - accuracy: 0.3125 - val_loss: 1.1155 - val_accuracy: 0.1552\n",
            "Epoch 3/50\n",
            "2/2 [==============================] - 1s 483ms/step - loss: 1.0963 - accuracy: 0.3125 - val_loss: 1.1153 - val_accuracy: 0.1552\n",
            "Epoch 4/50\n",
            "2/2 [==============================] - 1s 485ms/step - loss: 1.0968 - accuracy: 0.3229 - val_loss: 1.1151 - val_accuracy: 0.3276\n",
            "Epoch 5/50\n",
            "2/2 [==============================] - 1s 485ms/step - loss: 1.0966 - accuracy: 0.3854 - val_loss: 1.1149 - val_accuracy: 0.3276\n",
            "Epoch 6/50\n",
            "2/2 [==============================] - 1s 482ms/step - loss: 1.0927 - accuracy: 0.4062 - val_loss: 1.1149 - val_accuracy: 0.3276\n",
            "Epoch 7/50\n",
            "2/2 [==============================] - 1s 494ms/step - loss: 1.0942 - accuracy: 0.3958 - val_loss: 1.1147 - val_accuracy: 0.3276\n",
            "Epoch 8/50\n",
            "2/2 [==============================] - 1s 484ms/step - loss: 1.0976 - accuracy: 0.3854 - val_loss: 1.1144 - val_accuracy: 0.3276\n",
            "Epoch 9/50\n",
            "2/2 [==============================] - 1s 482ms/step - loss: 1.0935 - accuracy: 0.4062 - val_loss: 1.1143 - val_accuracy: 0.3276\n",
            "Epoch 10/50\n",
            "2/2 [==============================] - 1s 492ms/step - loss: 1.0919 - accuracy: 0.3958 - val_loss: 1.1143 - val_accuracy: 0.3276\n",
            "Epoch 11/50\n",
            "2/2 [==============================] - 1s 485ms/step - loss: 1.0940 - accuracy: 0.3750 - val_loss: 1.1143 - val_accuracy: 0.3276\n",
            "Epoch 12/50\n",
            "2/2 [==============================] - 1s 482ms/step - loss: 1.0947 - accuracy: 0.3958 - val_loss: 1.1142 - val_accuracy: 0.3276\n",
            "Epoch 13/50\n",
            "2/2 [==============================] - 1s 491ms/step - loss: 1.0908 - accuracy: 0.4062 - val_loss: 1.1142 - val_accuracy: 0.3276\n",
            "Epoch 14/50\n",
            "2/2 [==============================] - 1s 484ms/step - loss: 1.0938 - accuracy: 0.4062 - val_loss: 1.1141 - val_accuracy: 0.3276\n",
            "Epoch 15/50\n",
            "2/2 [==============================] - 1s 499ms/step - loss: 1.0949 - accuracy: 0.3958 - val_loss: 1.1140 - val_accuracy: 0.3276\n",
            "Epoch 16/50\n",
            "2/2 [==============================] - 1s 488ms/step - loss: 1.0924 - accuracy: 0.3958 - val_loss: 1.1140 - val_accuracy: 0.3276\n",
            "Epoch 17/50\n",
            "2/2 [==============================] - 1s 485ms/step - loss: 1.0937 - accuracy: 0.3854 - val_loss: 1.1140 - val_accuracy: 0.3276\n",
            "Epoch 18/50\n"
          ],
          "name": "stdout"
        },
        {
          "output_type": "error",
          "ename": "KeyboardInterrupt",
          "evalue": "ignored",
          "traceback": [
            "\u001b[0;31m---------------------------------------------------------------------------\u001b[0m",
            "\u001b[0;31mKeyboardInterrupt\u001b[0m                         Traceback (most recent call last)",
            "\u001b[0;32m<ipython-input-362-39f81567b829>\u001b[0m in \u001b[0;36m<module>\u001b[0;34m()\u001b[0m\n\u001b[0;32m----> 1\u001b[0;31m \u001b[0mhistory_vgg\u001b[0m \u001b[0;34m=\u001b[0m \u001b[0mmodel_vgg\u001b[0m\u001b[0;34m.\u001b[0m\u001b[0mfit_generator\u001b[0m\u001b[0;34m(\u001b[0m\u001b[0mtrain_gen\u001b[0m\u001b[0;34m,\u001b[0m \u001b[0mepochs\u001b[0m\u001b[0;34m=\u001b[0m\u001b[0;36m50\u001b[0m\u001b[0;34m,\u001b[0m \u001b[0mvalidation_data\u001b[0m \u001b[0;34m=\u001b[0m \u001b[0mtest_gen\u001b[0m\u001b[0;34m)\u001b[0m\u001b[0;34m\u001b[0m\u001b[0;34m\u001b[0m\u001b[0m\n\u001b[0m",
            "\u001b[0;32m/usr/local/lib/python3.7/dist-packages/tensorflow/python/keras/engine/training.py\u001b[0m in \u001b[0;36mfit_generator\u001b[0;34m(self, generator, steps_per_epoch, epochs, verbose, callbacks, validation_data, validation_steps, validation_freq, class_weight, max_queue_size, workers, use_multiprocessing, shuffle, initial_epoch)\u001b[0m\n\u001b[1;32m   1859\u001b[0m         \u001b[0muse_multiprocessing\u001b[0m\u001b[0;34m=\u001b[0m\u001b[0muse_multiprocessing\u001b[0m\u001b[0;34m,\u001b[0m\u001b[0;34m\u001b[0m\u001b[0;34m\u001b[0m\u001b[0m\n\u001b[1;32m   1860\u001b[0m         \u001b[0mshuffle\u001b[0m\u001b[0;34m=\u001b[0m\u001b[0mshuffle\u001b[0m\u001b[0;34m,\u001b[0m\u001b[0;34m\u001b[0m\u001b[0;34m\u001b[0m\u001b[0m\n\u001b[0;32m-> 1861\u001b[0;31m         initial_epoch=initial_epoch)\n\u001b[0m\u001b[1;32m   1862\u001b[0m \u001b[0;34m\u001b[0m\u001b[0m\n\u001b[1;32m   1863\u001b[0m   def evaluate_generator(self,\n",
            "\u001b[0;32m/usr/local/lib/python3.7/dist-packages/tensorflow/python/keras/engine/training.py\u001b[0m in \u001b[0;36mfit\u001b[0;34m(self, x, y, batch_size, epochs, verbose, callbacks, validation_split, validation_data, shuffle, class_weight, sample_weight, initial_epoch, steps_per_epoch, validation_steps, validation_batch_size, validation_freq, max_queue_size, workers, use_multiprocessing)\u001b[0m\n\u001b[1;32m   1103\u001b[0m               \u001b[0mlogs\u001b[0m \u001b[0;34m=\u001b[0m \u001b[0mtmp_logs\u001b[0m  \u001b[0;31m# No error, now safe to assign to logs.\u001b[0m\u001b[0;34m\u001b[0m\u001b[0;34m\u001b[0m\u001b[0m\n\u001b[1;32m   1104\u001b[0m               \u001b[0mend_step\u001b[0m \u001b[0;34m=\u001b[0m \u001b[0mstep\u001b[0m \u001b[0;34m+\u001b[0m \u001b[0mdata_handler\u001b[0m\u001b[0;34m.\u001b[0m\u001b[0mstep_increment\u001b[0m\u001b[0;34m\u001b[0m\u001b[0;34m\u001b[0m\u001b[0m\n\u001b[0;32m-> 1105\u001b[0;31m               \u001b[0mcallbacks\u001b[0m\u001b[0;34m.\u001b[0m\u001b[0mon_train_batch_end\u001b[0m\u001b[0;34m(\u001b[0m\u001b[0mend_step\u001b[0m\u001b[0;34m,\u001b[0m \u001b[0mlogs\u001b[0m\u001b[0;34m)\u001b[0m\u001b[0;34m\u001b[0m\u001b[0;34m\u001b[0m\u001b[0m\n\u001b[0m\u001b[1;32m   1106\u001b[0m               \u001b[0;32mif\u001b[0m \u001b[0mself\u001b[0m\u001b[0;34m.\u001b[0m\u001b[0mstop_training\u001b[0m\u001b[0;34m:\u001b[0m\u001b[0;34m\u001b[0m\u001b[0;34m\u001b[0m\u001b[0m\n\u001b[1;32m   1107\u001b[0m                 \u001b[0;32mbreak\u001b[0m\u001b[0;34m\u001b[0m\u001b[0;34m\u001b[0m\u001b[0m\n",
            "\u001b[0;32m/usr/local/lib/python3.7/dist-packages/tensorflow/python/keras/callbacks.py\u001b[0m in \u001b[0;36mon_train_batch_end\u001b[0;34m(self, batch, logs)\u001b[0m\n\u001b[1;32m    452\u001b[0m     \"\"\"\n\u001b[1;32m    453\u001b[0m     \u001b[0;32mif\u001b[0m \u001b[0mself\u001b[0m\u001b[0;34m.\u001b[0m\u001b[0m_should_call_train_batch_hooks\u001b[0m\u001b[0;34m:\u001b[0m\u001b[0;34m\u001b[0m\u001b[0;34m\u001b[0m\u001b[0m\n\u001b[0;32m--> 454\u001b[0;31m       \u001b[0mself\u001b[0m\u001b[0;34m.\u001b[0m\u001b[0m_call_batch_hook\u001b[0m\u001b[0;34m(\u001b[0m\u001b[0mModeKeys\u001b[0m\u001b[0;34m.\u001b[0m\u001b[0mTRAIN\u001b[0m\u001b[0;34m,\u001b[0m \u001b[0;34m'end'\u001b[0m\u001b[0;34m,\u001b[0m \u001b[0mbatch\u001b[0m\u001b[0;34m,\u001b[0m \u001b[0mlogs\u001b[0m\u001b[0;34m=\u001b[0m\u001b[0mlogs\u001b[0m\u001b[0;34m)\u001b[0m\u001b[0;34m\u001b[0m\u001b[0;34m\u001b[0m\u001b[0m\n\u001b[0m\u001b[1;32m    455\u001b[0m \u001b[0;34m\u001b[0m\u001b[0m\n\u001b[1;32m    456\u001b[0m   \u001b[0;32mdef\u001b[0m \u001b[0mon_test_batch_begin\u001b[0m\u001b[0;34m(\u001b[0m\u001b[0mself\u001b[0m\u001b[0;34m,\u001b[0m \u001b[0mbatch\u001b[0m\u001b[0;34m,\u001b[0m \u001b[0mlogs\u001b[0m\u001b[0;34m=\u001b[0m\u001b[0;32mNone\u001b[0m\u001b[0;34m)\u001b[0m\u001b[0;34m:\u001b[0m\u001b[0;34m\u001b[0m\u001b[0;34m\u001b[0m\u001b[0m\n",
            "\u001b[0;32m/usr/local/lib/python3.7/dist-packages/tensorflow/python/keras/callbacks.py\u001b[0m in \u001b[0;36m_call_batch_hook\u001b[0;34m(self, mode, hook, batch, logs)\u001b[0m\n\u001b[1;32m    294\u001b[0m       \u001b[0mself\u001b[0m\u001b[0;34m.\u001b[0m\u001b[0m_call_batch_begin_hook\u001b[0m\u001b[0;34m(\u001b[0m\u001b[0mmode\u001b[0m\u001b[0;34m,\u001b[0m \u001b[0mbatch\u001b[0m\u001b[0;34m,\u001b[0m \u001b[0mlogs\u001b[0m\u001b[0;34m)\u001b[0m\u001b[0;34m\u001b[0m\u001b[0;34m\u001b[0m\u001b[0m\n\u001b[1;32m    295\u001b[0m     \u001b[0;32melif\u001b[0m \u001b[0mhook\u001b[0m \u001b[0;34m==\u001b[0m \u001b[0;34m'end'\u001b[0m\u001b[0;34m:\u001b[0m\u001b[0;34m\u001b[0m\u001b[0;34m\u001b[0m\u001b[0m\n\u001b[0;32m--> 296\u001b[0;31m       \u001b[0mself\u001b[0m\u001b[0;34m.\u001b[0m\u001b[0m_call_batch_end_hook\u001b[0m\u001b[0;34m(\u001b[0m\u001b[0mmode\u001b[0m\u001b[0;34m,\u001b[0m \u001b[0mbatch\u001b[0m\u001b[0;34m,\u001b[0m \u001b[0mlogs\u001b[0m\u001b[0;34m)\u001b[0m\u001b[0;34m\u001b[0m\u001b[0;34m\u001b[0m\u001b[0m\n\u001b[0m\u001b[1;32m    297\u001b[0m     \u001b[0;32melse\u001b[0m\u001b[0;34m:\u001b[0m\u001b[0;34m\u001b[0m\u001b[0;34m\u001b[0m\u001b[0m\n\u001b[1;32m    298\u001b[0m       \u001b[0;32mraise\u001b[0m \u001b[0mValueError\u001b[0m\u001b[0;34m(\u001b[0m\u001b[0;34m'Unrecognized hook: {}'\u001b[0m\u001b[0;34m.\u001b[0m\u001b[0mformat\u001b[0m\u001b[0;34m(\u001b[0m\u001b[0mhook\u001b[0m\u001b[0;34m)\u001b[0m\u001b[0;34m)\u001b[0m\u001b[0;34m\u001b[0m\u001b[0;34m\u001b[0m\u001b[0m\n",
            "\u001b[0;32m/usr/local/lib/python3.7/dist-packages/tensorflow/python/keras/callbacks.py\u001b[0m in \u001b[0;36m_call_batch_end_hook\u001b[0;34m(self, mode, batch, logs)\u001b[0m\n\u001b[1;32m    314\u001b[0m       \u001b[0mself\u001b[0m\u001b[0;34m.\u001b[0m\u001b[0m_batch_times\u001b[0m\u001b[0;34m.\u001b[0m\u001b[0mappend\u001b[0m\u001b[0;34m(\u001b[0m\u001b[0mbatch_time\u001b[0m\u001b[0;34m)\u001b[0m\u001b[0;34m\u001b[0m\u001b[0;34m\u001b[0m\u001b[0m\n\u001b[1;32m    315\u001b[0m \u001b[0;34m\u001b[0m\u001b[0m\n\u001b[0;32m--> 316\u001b[0;31m     \u001b[0mself\u001b[0m\u001b[0;34m.\u001b[0m\u001b[0m_call_batch_hook_helper\u001b[0m\u001b[0;34m(\u001b[0m\u001b[0mhook_name\u001b[0m\u001b[0;34m,\u001b[0m \u001b[0mbatch\u001b[0m\u001b[0;34m,\u001b[0m \u001b[0mlogs\u001b[0m\u001b[0;34m)\u001b[0m\u001b[0;34m\u001b[0m\u001b[0;34m\u001b[0m\u001b[0m\n\u001b[0m\u001b[1;32m    317\u001b[0m \u001b[0;34m\u001b[0m\u001b[0m\n\u001b[1;32m    318\u001b[0m     \u001b[0;32mif\u001b[0m \u001b[0mlen\u001b[0m\u001b[0;34m(\u001b[0m\u001b[0mself\u001b[0m\u001b[0;34m.\u001b[0m\u001b[0m_batch_times\u001b[0m\u001b[0;34m)\u001b[0m \u001b[0;34m>=\u001b[0m \u001b[0mself\u001b[0m\u001b[0;34m.\u001b[0m\u001b[0m_num_batches_for_timing_check\u001b[0m\u001b[0;34m:\u001b[0m\u001b[0;34m\u001b[0m\u001b[0;34m\u001b[0m\u001b[0m\n",
            "\u001b[0;32m/usr/local/lib/python3.7/dist-packages/tensorflow/python/keras/callbacks.py\u001b[0m in \u001b[0;36m_call_batch_hook_helper\u001b[0;34m(self, hook_name, batch, logs)\u001b[0m\n\u001b[1;32m    354\u001b[0m       \u001b[0mhook\u001b[0m \u001b[0;34m=\u001b[0m \u001b[0mgetattr\u001b[0m\u001b[0;34m(\u001b[0m\u001b[0mcallback\u001b[0m\u001b[0;34m,\u001b[0m \u001b[0mhook_name\u001b[0m\u001b[0;34m)\u001b[0m\u001b[0;34m\u001b[0m\u001b[0;34m\u001b[0m\u001b[0m\n\u001b[1;32m    355\u001b[0m       \u001b[0;32mif\u001b[0m \u001b[0mgetattr\u001b[0m\u001b[0;34m(\u001b[0m\u001b[0mcallback\u001b[0m\u001b[0;34m,\u001b[0m \u001b[0;34m'_supports_tf_logs'\u001b[0m\u001b[0;34m,\u001b[0m \u001b[0;32mFalse\u001b[0m\u001b[0;34m)\u001b[0m\u001b[0;34m:\u001b[0m\u001b[0;34m\u001b[0m\u001b[0;34m\u001b[0m\u001b[0m\n\u001b[0;32m--> 356\u001b[0;31m         \u001b[0mhook\u001b[0m\u001b[0;34m(\u001b[0m\u001b[0mbatch\u001b[0m\u001b[0;34m,\u001b[0m \u001b[0mlogs\u001b[0m\u001b[0;34m)\u001b[0m\u001b[0;34m\u001b[0m\u001b[0;34m\u001b[0m\u001b[0m\n\u001b[0m\u001b[1;32m    357\u001b[0m       \u001b[0;32melse\u001b[0m\u001b[0;34m:\u001b[0m\u001b[0;34m\u001b[0m\u001b[0;34m\u001b[0m\u001b[0m\n\u001b[1;32m    358\u001b[0m         \u001b[0;32mif\u001b[0m \u001b[0mnumpy_logs\u001b[0m \u001b[0;32mis\u001b[0m \u001b[0;32mNone\u001b[0m\u001b[0;34m:\u001b[0m  \u001b[0;31m# Only convert once.\u001b[0m\u001b[0;34m\u001b[0m\u001b[0;34m\u001b[0m\u001b[0m\n",
            "\u001b[0;32m/usr/local/lib/python3.7/dist-packages/tensorflow/python/keras/callbacks.py\u001b[0m in \u001b[0;36mon_train_batch_end\u001b[0;34m(self, batch, logs)\u001b[0m\n\u001b[1;32m   1018\u001b[0m \u001b[0;34m\u001b[0m\u001b[0m\n\u001b[1;32m   1019\u001b[0m   \u001b[0;32mdef\u001b[0m \u001b[0mon_train_batch_end\u001b[0m\u001b[0;34m(\u001b[0m\u001b[0mself\u001b[0m\u001b[0;34m,\u001b[0m \u001b[0mbatch\u001b[0m\u001b[0;34m,\u001b[0m \u001b[0mlogs\u001b[0m\u001b[0;34m=\u001b[0m\u001b[0;32mNone\u001b[0m\u001b[0;34m)\u001b[0m\u001b[0;34m:\u001b[0m\u001b[0;34m\u001b[0m\u001b[0;34m\u001b[0m\u001b[0m\n\u001b[0;32m-> 1020\u001b[0;31m     \u001b[0mself\u001b[0m\u001b[0;34m.\u001b[0m\u001b[0m_batch_update_progbar\u001b[0m\u001b[0;34m(\u001b[0m\u001b[0mbatch\u001b[0m\u001b[0;34m,\u001b[0m \u001b[0mlogs\u001b[0m\u001b[0;34m)\u001b[0m\u001b[0;34m\u001b[0m\u001b[0;34m\u001b[0m\u001b[0m\n\u001b[0m\u001b[1;32m   1021\u001b[0m \u001b[0;34m\u001b[0m\u001b[0m\n\u001b[1;32m   1022\u001b[0m   \u001b[0;32mdef\u001b[0m \u001b[0mon_test_batch_end\u001b[0m\u001b[0;34m(\u001b[0m\u001b[0mself\u001b[0m\u001b[0;34m,\u001b[0m \u001b[0mbatch\u001b[0m\u001b[0;34m,\u001b[0m \u001b[0mlogs\u001b[0m\u001b[0;34m=\u001b[0m\u001b[0;32mNone\u001b[0m\u001b[0;34m)\u001b[0m\u001b[0;34m:\u001b[0m\u001b[0;34m\u001b[0m\u001b[0;34m\u001b[0m\u001b[0m\n",
            "\u001b[0;32m/usr/local/lib/python3.7/dist-packages/tensorflow/python/keras/callbacks.py\u001b[0m in \u001b[0;36m_batch_update_progbar\u001b[0;34m(self, batch, logs)\u001b[0m\n\u001b[1;32m   1082\u001b[0m     \u001b[0;32mif\u001b[0m \u001b[0mself\u001b[0m\u001b[0;34m.\u001b[0m\u001b[0mverbose\u001b[0m \u001b[0;34m==\u001b[0m \u001b[0;36m1\u001b[0m\u001b[0;34m:\u001b[0m\u001b[0;34m\u001b[0m\u001b[0;34m\u001b[0m\u001b[0m\n\u001b[1;32m   1083\u001b[0m       \u001b[0;31m# Only block async when verbose = 1.\u001b[0m\u001b[0;34m\u001b[0m\u001b[0;34m\u001b[0m\u001b[0;34m\u001b[0m\u001b[0m\n\u001b[0;32m-> 1084\u001b[0;31m       \u001b[0mlogs\u001b[0m \u001b[0;34m=\u001b[0m \u001b[0mtf_utils\u001b[0m\u001b[0;34m.\u001b[0m\u001b[0mto_numpy_or_python_type\u001b[0m\u001b[0;34m(\u001b[0m\u001b[0mlogs\u001b[0m\u001b[0;34m)\u001b[0m\u001b[0;34m\u001b[0m\u001b[0;34m\u001b[0m\u001b[0m\n\u001b[0m\u001b[1;32m   1085\u001b[0m       \u001b[0mself\u001b[0m\u001b[0;34m.\u001b[0m\u001b[0mprogbar\u001b[0m\u001b[0;34m.\u001b[0m\u001b[0mupdate\u001b[0m\u001b[0;34m(\u001b[0m\u001b[0mself\u001b[0m\u001b[0;34m.\u001b[0m\u001b[0mseen\u001b[0m\u001b[0;34m,\u001b[0m \u001b[0mlist\u001b[0m\u001b[0;34m(\u001b[0m\u001b[0mlogs\u001b[0m\u001b[0;34m.\u001b[0m\u001b[0mitems\u001b[0m\u001b[0;34m(\u001b[0m\u001b[0;34m)\u001b[0m\u001b[0;34m)\u001b[0m\u001b[0;34m,\u001b[0m \u001b[0mfinalize\u001b[0m\u001b[0;34m=\u001b[0m\u001b[0;32mFalse\u001b[0m\u001b[0;34m)\u001b[0m\u001b[0;34m\u001b[0m\u001b[0;34m\u001b[0m\u001b[0m\n\u001b[1;32m   1086\u001b[0m \u001b[0;34m\u001b[0m\u001b[0m\n",
            "\u001b[0;32m/usr/local/lib/python3.7/dist-packages/tensorflow/python/keras/utils/tf_utils.py\u001b[0m in \u001b[0;36mto_numpy_or_python_type\u001b[0;34m(tensors)\u001b[0m\n\u001b[1;32m    512\u001b[0m     \u001b[0;32mreturn\u001b[0m \u001b[0mt\u001b[0m  \u001b[0;31m# Don't turn ragged or sparse tensors to NumPy.\u001b[0m\u001b[0;34m\u001b[0m\u001b[0;34m\u001b[0m\u001b[0m\n\u001b[1;32m    513\u001b[0m \u001b[0;34m\u001b[0m\u001b[0m\n\u001b[0;32m--> 514\u001b[0;31m   \u001b[0;32mreturn\u001b[0m \u001b[0mnest\u001b[0m\u001b[0;34m.\u001b[0m\u001b[0mmap_structure\u001b[0m\u001b[0;34m(\u001b[0m\u001b[0m_to_single_numpy_or_python_type\u001b[0m\u001b[0;34m,\u001b[0m \u001b[0mtensors\u001b[0m\u001b[0;34m)\u001b[0m\u001b[0;34m\u001b[0m\u001b[0;34m\u001b[0m\u001b[0m\n\u001b[0m\u001b[1;32m    515\u001b[0m \u001b[0;34m\u001b[0m\u001b[0m\n\u001b[1;32m    516\u001b[0m \u001b[0;34m\u001b[0m\u001b[0m\n",
            "\u001b[0;32m/usr/local/lib/python3.7/dist-packages/tensorflow/python/util/nest.py\u001b[0m in \u001b[0;36mmap_structure\u001b[0;34m(func, *structure, **kwargs)\u001b[0m\n\u001b[1;32m    657\u001b[0m \u001b[0;34m\u001b[0m\u001b[0m\n\u001b[1;32m    658\u001b[0m   return pack_sequence_as(\n\u001b[0;32m--> 659\u001b[0;31m       \u001b[0mstructure\u001b[0m\u001b[0;34m[\u001b[0m\u001b[0;36m0\u001b[0m\u001b[0;34m]\u001b[0m\u001b[0;34m,\u001b[0m \u001b[0;34m[\u001b[0m\u001b[0mfunc\u001b[0m\u001b[0;34m(\u001b[0m\u001b[0;34m*\u001b[0m\u001b[0mx\u001b[0m\u001b[0;34m)\u001b[0m \u001b[0;32mfor\u001b[0m \u001b[0mx\u001b[0m \u001b[0;32min\u001b[0m \u001b[0mentries\u001b[0m\u001b[0;34m]\u001b[0m\u001b[0;34m,\u001b[0m\u001b[0;34m\u001b[0m\u001b[0;34m\u001b[0m\u001b[0m\n\u001b[0m\u001b[1;32m    660\u001b[0m       expand_composites=expand_composites)\n\u001b[1;32m    661\u001b[0m \u001b[0;34m\u001b[0m\u001b[0m\n",
            "\u001b[0;32m/usr/local/lib/python3.7/dist-packages/tensorflow/python/util/nest.py\u001b[0m in \u001b[0;36m<listcomp>\u001b[0;34m(.0)\u001b[0m\n\u001b[1;32m    657\u001b[0m \u001b[0;34m\u001b[0m\u001b[0m\n\u001b[1;32m    658\u001b[0m   return pack_sequence_as(\n\u001b[0;32m--> 659\u001b[0;31m       \u001b[0mstructure\u001b[0m\u001b[0;34m[\u001b[0m\u001b[0;36m0\u001b[0m\u001b[0;34m]\u001b[0m\u001b[0;34m,\u001b[0m \u001b[0;34m[\u001b[0m\u001b[0mfunc\u001b[0m\u001b[0;34m(\u001b[0m\u001b[0;34m*\u001b[0m\u001b[0mx\u001b[0m\u001b[0;34m)\u001b[0m \u001b[0;32mfor\u001b[0m \u001b[0mx\u001b[0m \u001b[0;32min\u001b[0m \u001b[0mentries\u001b[0m\u001b[0;34m]\u001b[0m\u001b[0;34m,\u001b[0m\u001b[0;34m\u001b[0m\u001b[0;34m\u001b[0m\u001b[0m\n\u001b[0m\u001b[1;32m    660\u001b[0m       expand_composites=expand_composites)\n\u001b[1;32m    661\u001b[0m \u001b[0;34m\u001b[0m\u001b[0m\n",
            "\u001b[0;32m/usr/local/lib/python3.7/dist-packages/tensorflow/python/keras/utils/tf_utils.py\u001b[0m in \u001b[0;36m_to_single_numpy_or_python_type\u001b[0;34m(t)\u001b[0m\n\u001b[1;32m    508\u001b[0m   \u001b[0;32mdef\u001b[0m \u001b[0m_to_single_numpy_or_python_type\u001b[0m\u001b[0;34m(\u001b[0m\u001b[0mt\u001b[0m\u001b[0;34m)\u001b[0m\u001b[0;34m:\u001b[0m\u001b[0;34m\u001b[0m\u001b[0;34m\u001b[0m\u001b[0m\n\u001b[1;32m    509\u001b[0m     \u001b[0;32mif\u001b[0m \u001b[0misinstance\u001b[0m\u001b[0;34m(\u001b[0m\u001b[0mt\u001b[0m\u001b[0;34m,\u001b[0m \u001b[0mops\u001b[0m\u001b[0;34m.\u001b[0m\u001b[0mTensor\u001b[0m\u001b[0;34m)\u001b[0m\u001b[0;34m:\u001b[0m\u001b[0;34m\u001b[0m\u001b[0;34m\u001b[0m\u001b[0m\n\u001b[0;32m--> 510\u001b[0;31m       \u001b[0mx\u001b[0m \u001b[0;34m=\u001b[0m \u001b[0mt\u001b[0m\u001b[0;34m.\u001b[0m\u001b[0mnumpy\u001b[0m\u001b[0;34m(\u001b[0m\u001b[0;34m)\u001b[0m\u001b[0;34m\u001b[0m\u001b[0;34m\u001b[0m\u001b[0m\n\u001b[0m\u001b[1;32m    511\u001b[0m       \u001b[0;32mreturn\u001b[0m \u001b[0mx\u001b[0m\u001b[0;34m.\u001b[0m\u001b[0mitem\u001b[0m\u001b[0;34m(\u001b[0m\u001b[0;34m)\u001b[0m \u001b[0;32mif\u001b[0m \u001b[0mnp\u001b[0m\u001b[0;34m.\u001b[0m\u001b[0mndim\u001b[0m\u001b[0;34m(\u001b[0m\u001b[0mx\u001b[0m\u001b[0;34m)\u001b[0m \u001b[0;34m==\u001b[0m \u001b[0;36m0\u001b[0m \u001b[0;32melse\u001b[0m \u001b[0mx\u001b[0m\u001b[0;34m\u001b[0m\u001b[0;34m\u001b[0m\u001b[0m\n\u001b[1;32m    512\u001b[0m     \u001b[0;32mreturn\u001b[0m \u001b[0mt\u001b[0m  \u001b[0;31m# Don't turn ragged or sparse tensors to NumPy.\u001b[0m\u001b[0;34m\u001b[0m\u001b[0;34m\u001b[0m\u001b[0m\n",
            "\u001b[0;32m/usr/local/lib/python3.7/dist-packages/tensorflow/python/framework/ops.py\u001b[0m in \u001b[0;36mnumpy\u001b[0;34m(self)\u001b[0m\n\u001b[1;32m   1069\u001b[0m     \"\"\"\n\u001b[1;32m   1070\u001b[0m     \u001b[0;31m# TODO(slebedev): Consider avoiding a copy for non-CPU or remote tensors.\u001b[0m\u001b[0;34m\u001b[0m\u001b[0;34m\u001b[0m\u001b[0;34m\u001b[0m\u001b[0m\n\u001b[0;32m-> 1071\u001b[0;31m     \u001b[0mmaybe_arr\u001b[0m \u001b[0;34m=\u001b[0m \u001b[0mself\u001b[0m\u001b[0;34m.\u001b[0m\u001b[0m_numpy\u001b[0m\u001b[0;34m(\u001b[0m\u001b[0;34m)\u001b[0m  \u001b[0;31m# pylint: disable=protected-access\u001b[0m\u001b[0;34m\u001b[0m\u001b[0;34m\u001b[0m\u001b[0m\n\u001b[0m\u001b[1;32m   1072\u001b[0m     \u001b[0;32mreturn\u001b[0m \u001b[0mmaybe_arr\u001b[0m\u001b[0;34m.\u001b[0m\u001b[0mcopy\u001b[0m\u001b[0;34m(\u001b[0m\u001b[0;34m)\u001b[0m \u001b[0;32mif\u001b[0m \u001b[0misinstance\u001b[0m\u001b[0;34m(\u001b[0m\u001b[0mmaybe_arr\u001b[0m\u001b[0;34m,\u001b[0m \u001b[0mnp\u001b[0m\u001b[0;34m.\u001b[0m\u001b[0mndarray\u001b[0m\u001b[0;34m)\u001b[0m \u001b[0;32melse\u001b[0m \u001b[0mmaybe_arr\u001b[0m\u001b[0;34m\u001b[0m\u001b[0;34m\u001b[0m\u001b[0m\n\u001b[1;32m   1073\u001b[0m \u001b[0;34m\u001b[0m\u001b[0m\n",
            "\u001b[0;32m/usr/local/lib/python3.7/dist-packages/tensorflow/python/framework/ops.py\u001b[0m in \u001b[0;36m_numpy\u001b[0;34m(self)\u001b[0m\n\u001b[1;32m   1035\u001b[0m   \u001b[0;32mdef\u001b[0m \u001b[0m_numpy\u001b[0m\u001b[0;34m(\u001b[0m\u001b[0mself\u001b[0m\u001b[0;34m)\u001b[0m\u001b[0;34m:\u001b[0m\u001b[0;34m\u001b[0m\u001b[0;34m\u001b[0m\u001b[0m\n\u001b[1;32m   1036\u001b[0m     \u001b[0;32mtry\u001b[0m\u001b[0;34m:\u001b[0m\u001b[0;34m\u001b[0m\u001b[0;34m\u001b[0m\u001b[0m\n\u001b[0;32m-> 1037\u001b[0;31m       \u001b[0;32mreturn\u001b[0m \u001b[0mself\u001b[0m\u001b[0;34m.\u001b[0m\u001b[0m_numpy_internal\u001b[0m\u001b[0;34m(\u001b[0m\u001b[0;34m)\u001b[0m\u001b[0;34m\u001b[0m\u001b[0;34m\u001b[0m\u001b[0m\n\u001b[0m\u001b[1;32m   1038\u001b[0m     \u001b[0;32mexcept\u001b[0m \u001b[0mcore\u001b[0m\u001b[0;34m.\u001b[0m\u001b[0m_NotOkStatusException\u001b[0m \u001b[0;32mas\u001b[0m \u001b[0me\u001b[0m\u001b[0;34m:\u001b[0m  \u001b[0;31m# pylint: disable=protected-access\u001b[0m\u001b[0;34m\u001b[0m\u001b[0;34m\u001b[0m\u001b[0m\n\u001b[1;32m   1039\u001b[0m       \u001b[0msix\u001b[0m\u001b[0;34m.\u001b[0m\u001b[0mraise_from\u001b[0m\u001b[0;34m(\u001b[0m\u001b[0mcore\u001b[0m\u001b[0;34m.\u001b[0m\u001b[0m_status_to_exception\u001b[0m\u001b[0;34m(\u001b[0m\u001b[0me\u001b[0m\u001b[0;34m.\u001b[0m\u001b[0mcode\u001b[0m\u001b[0;34m,\u001b[0m \u001b[0me\u001b[0m\u001b[0;34m.\u001b[0m\u001b[0mmessage\u001b[0m\u001b[0;34m)\u001b[0m\u001b[0;34m,\u001b[0m \u001b[0;32mNone\u001b[0m\u001b[0;34m)\u001b[0m  \u001b[0;31m# pylint: disable=protected-access\u001b[0m\u001b[0;34m\u001b[0m\u001b[0;34m\u001b[0m\u001b[0m\n",
            "\u001b[0;31mKeyboardInterrupt\u001b[0m: "
          ]
        }
      ]
    },
    {
      "cell_type": "code",
      "metadata": {
        "id": "kUD31hh1MaGR"
      },
      "source": [
        ""
      ],
      "execution_count": null,
      "outputs": []
    },
    {
      "cell_type": "code",
      "metadata": {
        "id": "8N0wepnwMaMD"
      },
      "source": [
        ""
      ],
      "execution_count": null,
      "outputs": []
    },
    {
      "cell_type": "markdown",
      "metadata": {
        "id": "Bj5wQ1hbsaPz"
      },
      "source": [
        "tensorflow addons to try different losses, optimizers,,............................just trying stuff "
      ]
    },
    {
      "cell_type": "code",
      "metadata": {
        "colab": {
          "base_uri": "https://localhost:8080/"
        },
        "id": "zl7cvcHln-eB",
        "outputId": "440db928-e455-4cf0-809f-c779474678a2"
      },
      "source": [
        "!pip install tensorflow_addons"
      ],
      "execution_count": null,
      "outputs": [
        {
          "output_type": "stream",
          "text": [
            "Collecting tensorflow_addons\n",
            "\u001b[?25l  Downloading https://files.pythonhosted.org/packages/74/e3/56d2fe76f0bb7c88ed9b2a6a557e25e83e252aec08f13de34369cd850a0b/tensorflow_addons-0.12.1-cp37-cp37m-manylinux2010_x86_64.whl (703kB)\n",
            "\r\u001b[K     |▌                               | 10kB 24.8MB/s eta 0:00:01\r\u001b[K     |█                               | 20kB 30.4MB/s eta 0:00:01\r\u001b[K     |█▍                              | 30kB 21.9MB/s eta 0:00:01\r\u001b[K     |█▉                              | 40kB 17.1MB/s eta 0:00:01\r\u001b[K     |██▎                             | 51kB 14.8MB/s eta 0:00:01\r\u001b[K     |██▉                             | 61kB 13.9MB/s eta 0:00:01\r\u001b[K     |███▎                            | 71kB 15.3MB/s eta 0:00:01\r\u001b[K     |███▊                            | 81kB 15.2MB/s eta 0:00:01\r\u001b[K     |████▏                           | 92kB 14.3MB/s eta 0:00:01\r\u001b[K     |████▋                           | 102kB 15.5MB/s eta 0:00:01\r\u001b[K     |█████▏                          | 112kB 15.5MB/s eta 0:00:01\r\u001b[K     |█████▋                          | 122kB 15.5MB/s eta 0:00:01\r\u001b[K     |██████                          | 133kB 15.5MB/s eta 0:00:01\r\u001b[K     |██████▌                         | 143kB 15.5MB/s eta 0:00:01\r\u001b[K     |███████                         | 153kB 15.5MB/s eta 0:00:01\r\u001b[K     |███████▌                        | 163kB 15.5MB/s eta 0:00:01\r\u001b[K     |████████                        | 174kB 15.5MB/s eta 0:00:01\r\u001b[K     |████████▍                       | 184kB 15.5MB/s eta 0:00:01\r\u001b[K     |████████▉                       | 194kB 15.5MB/s eta 0:00:01\r\u001b[K     |█████████▎                      | 204kB 15.5MB/s eta 0:00:01\r\u001b[K     |█████████▉                      | 215kB 15.5MB/s eta 0:00:01\r\u001b[K     |██████████▎                     | 225kB 15.5MB/s eta 0:00:01\r\u001b[K     |██████████▊                     | 235kB 15.5MB/s eta 0:00:01\r\u001b[K     |███████████▏                    | 245kB 15.5MB/s eta 0:00:01\r\u001b[K     |███████████▋                    | 256kB 15.5MB/s eta 0:00:01\r\u001b[K     |████████████▏                   | 266kB 15.5MB/s eta 0:00:01\r\u001b[K     |████████████▋                   | 276kB 15.5MB/s eta 0:00:01\r\u001b[K     |█████████████                   | 286kB 15.5MB/s eta 0:00:01\r\u001b[K     |█████████████▌                  | 296kB 15.5MB/s eta 0:00:01\r\u001b[K     |██████████████                  | 307kB 15.5MB/s eta 0:00:01\r\u001b[K     |██████████████▍                 | 317kB 15.5MB/s eta 0:00:01\r\u001b[K     |███████████████                 | 327kB 15.5MB/s eta 0:00:01\r\u001b[K     |███████████████▍                | 337kB 15.5MB/s eta 0:00:01\r\u001b[K     |███████████████▉                | 348kB 15.5MB/s eta 0:00:01\r\u001b[K     |████████████████▎               | 358kB 15.5MB/s eta 0:00:01\r\u001b[K     |████████████████▊               | 368kB 15.5MB/s eta 0:00:01\r\u001b[K     |█████████████████▎              | 378kB 15.5MB/s eta 0:00:01\r\u001b[K     |█████████████████▊              | 389kB 15.5MB/s eta 0:00:01\r\u001b[K     |██████████████████▏             | 399kB 15.5MB/s eta 0:00:01\r\u001b[K     |██████████████████▋             | 409kB 15.5MB/s eta 0:00:01\r\u001b[K     |███████████████████             | 419kB 15.5MB/s eta 0:00:01\r\u001b[K     |███████████████████▋            | 430kB 15.5MB/s eta 0:00:01\r\u001b[K     |████████████████████            | 440kB 15.5MB/s eta 0:00:01\r\u001b[K     |████████████████████▌           | 450kB 15.5MB/s eta 0:00:01\r\u001b[K     |█████████████████████           | 460kB 15.5MB/s eta 0:00:01\r\u001b[K     |█████████████████████▍          | 471kB 15.5MB/s eta 0:00:01\r\u001b[K     |██████████████████████          | 481kB 15.5MB/s eta 0:00:01\r\u001b[K     |██████████████████████▍         | 491kB 15.5MB/s eta 0:00:01\r\u001b[K     |██████████████████████▉         | 501kB 15.5MB/s eta 0:00:01\r\u001b[K     |███████████████████████▎        | 512kB 15.5MB/s eta 0:00:01\r\u001b[K     |███████████████████████▊        | 522kB 15.5MB/s eta 0:00:01\r\u001b[K     |████████████████████████▎       | 532kB 15.5MB/s eta 0:00:01\r\u001b[K     |████████████████████████▊       | 542kB 15.5MB/s eta 0:00:01\r\u001b[K     |█████████████████████████▏      | 552kB 15.5MB/s eta 0:00:01\r\u001b[K     |█████████████████████████▋      | 563kB 15.5MB/s eta 0:00:01\r\u001b[K     |██████████████████████████      | 573kB 15.5MB/s eta 0:00:01\r\u001b[K     |██████████████████████████▋     | 583kB 15.5MB/s eta 0:00:01\r\u001b[K     |███████████████████████████     | 593kB 15.5MB/s eta 0:00:01\r\u001b[K     |███████████████████████████▌    | 604kB 15.5MB/s eta 0:00:01\r\u001b[K     |████████████████████████████    | 614kB 15.5MB/s eta 0:00:01\r\u001b[K     |████████████████████████████▍   | 624kB 15.5MB/s eta 0:00:01\r\u001b[K     |████████████████████████████▉   | 634kB 15.5MB/s eta 0:00:01\r\u001b[K     |█████████████████████████████▍  | 645kB 15.5MB/s eta 0:00:01\r\u001b[K     |█████████████████████████████▉  | 655kB 15.5MB/s eta 0:00:01\r\u001b[K     |██████████████████████████████▎ | 665kB 15.5MB/s eta 0:00:01\r\u001b[K     |██████████████████████████████▊ | 675kB 15.5MB/s eta 0:00:01\r\u001b[K     |███████████████████████████████▏| 686kB 15.5MB/s eta 0:00:01\r\u001b[K     |███████████████████████████████▊| 696kB 15.5MB/s eta 0:00:01\r\u001b[K     |████████████████████████████████| 706kB 15.5MB/s \n",
            "\u001b[?25hRequirement already satisfied: typeguard>=2.7 in /usr/local/lib/python3.7/dist-packages (from tensorflow_addons) (2.7.1)\n",
            "Installing collected packages: tensorflow-addons\n",
            "Successfully installed tensorflow-addons-0.12.1\n"
          ],
          "name": "stdout"
        }
      ]
    },
    {
      "cell_type": "code",
      "metadata": {
        "id": "2iHGs1J0pMOV"
      },
      "source": [
        "losses = tf.keras.losses.CategoricalCrossentropy(from_logits=False)"
      ],
      "execution_count": null,
      "outputs": []
    },
    {
      "cell_type": "code",
      "metadata": {
        "colab": {
          "base_uri": "https://localhost:8080/"
        },
        "id": "GiSUuz__mXee",
        "outputId": "cf26cb66-6324-419e-d3c1-ade941fb1a89"
      },
      "source": [
        "import tensorflow as tf\n",
        "import tensorflow_addons as tfa\n",
        "train,test = tf.keras.datasets.mnist.load_data()\n",
        "x_train, y_train = train\n",
        "x_train = x_train[..., tf.newaxis] / 255.0\n",
        "\n",
        "# TFA layers and activations\n",
        "model = tf.keras.Sequential([\n",
        "  tf.keras.layers.Conv2D(filters=10, kernel_size=(3,3),\n",
        "                         activation=tfa.activations.gelu),\n",
        "  tfa.layers.GroupNormalization(groups=5, axis=3),\n",
        "  tf.keras.layers.Flatten(),\n",
        "  tf.keras.layers.Dense(10, activation='softmax')\n",
        "])\n",
        "\n",
        "# TFA optimizers, losses and metrics\n",
        "model.compile(\n",
        "    optimizer=tfa.optimizers.AdamW(0.01),\n",
        "    loss=tfa.losses.TripletSemiHardLoss(),\n",
        "    metrics=['accuracy'])\n",
        "\n",
        "history = model.fit(x_train, y_train, epochs=10)"
      ],
      "execution_count": null,
      "outputs": [
        {
          "output_type": "stream",
          "text": [
            "Downloading data from https://storage.googleapis.com/tensorflow/tf-keras-datasets/mnist.npz\n",
            "11493376/11490434 [==============================] - 0s 0us/step\n",
            "Epoch 1/10\n"
          ],
          "name": "stdout"
        },
        {
          "output_type": "stream",
          "text": [
            "/usr/local/lib/python3.7/dist-packages/tensorflow_addons/activations/gelu.py:81: UserWarning: Default value of `approximate` is changed from `True` to `False`\n",
            "  \"Default value of `approximate` is changed from `True` to `False`\"\n"
          ],
          "name": "stderr"
        },
        {
          "output_type": "stream",
          "text": [
            "1875/1875 [==============================] - 7s 3ms/step - loss: 0.8846 - accuracy: 0.0955\n",
            "Epoch 2/10\n",
            "1875/1875 [==============================] - 5s 3ms/step - loss: 0.8883 - accuracy: 0.0953\n",
            "Epoch 3/10\n",
            "1875/1875 [==============================] - 5s 3ms/step - loss: 0.8727 - accuracy: 0.0873\n",
            "Epoch 4/10\n",
            "1875/1875 [==============================] - 5s 3ms/step - loss: 0.7422 - accuracy: 0.0117\n",
            "Epoch 5/10\n",
            "1875/1875 [==============================] - 5s 3ms/step - loss: 1.0000 - accuracy: 0.0769\n",
            "Epoch 6/10\n",
            "1875/1875 [==============================] - 5s 3ms/step - loss: 1.0000 - accuracy: 0.1012\n",
            "Epoch 7/10\n",
            "1875/1875 [==============================] - 5s 3ms/step - loss: 1.0000 - accuracy: 0.1012\n",
            "Epoch 8/10\n",
            "1875/1875 [==============================] - 5s 3ms/step - loss: 1.0000 - accuracy: 0.1002\n",
            "Epoch 9/10\n",
            "1875/1875 [==============================] - 5s 3ms/step - loss: 1.0000 - accuracy: 0.1009\n",
            "Epoch 10/10\n",
            "1875/1875 [==============================] - 5s 3ms/step - loss: 1.0000 - accuracy: 0.1017\n"
          ],
          "name": "stdout"
        }
      ]
    },
    {
      "cell_type": "markdown",
      "metadata": {
        "id": "ZB40iH01lPXm"
      },
      "source": [
        "## CODE-3\n",
        "#####Trying on own"
      ]
    },
    {
      "cell_type": "code",
      "metadata": {
        "id": "eZ2V7YXMoI5k"
      },
      "source": [
        "!wget 'https://github.com/OlafenwaMoses/IdenProf/releases/download/v1.0/idenprof-jpg.zip'\n",
        "!unzip '/content/idenprof-jpg.zip'"
      ],
      "execution_count": null,
      "outputs": []
    },
    {
      "cell_type": "code",
      "metadata": {
        "id": "dKKkcBIAqg1u"
      },
      "source": [
        "# import the libraries as shown below\n",
        "\n",
        "from tensorflow.keras.layers import Input, Lambda, Dense, Flatten\n",
        "from tensorflow.keras.models import Model\n",
        "from tensorflow.keras.applications.vgg16 import VGG16\n",
        "#from keras.applications.vgg16 import VGG16\n",
        "from tensorflow.keras.applications.resnet50 import preprocess_input\n",
        "from tensorflow.keras.preprocessing import image\n",
        "from tensorflow.keras.preprocessing.image import ImageDataGenerator,load_img\n",
        "from tensorflow.keras.models import Sequential\n",
        "import numpy as np\n",
        "from glob import glob\n",
        "import matplotlib.pyplot as plt"
      ],
      "execution_count": null,
      "outputs": []
    },
    {
      "cell_type": "code",
      "metadata": {
        "id": "xl1KawLngbta"
      },
      "source": [
        "# !cp -r '/content/drive/MyDrive/Colab Notebooks/idenprof' '/content/'"
      ],
      "execution_count": null,
      "outputs": []
    },
    {
      "cell_type": "code",
      "metadata": {
        "id": "935eyaovlZ9W"
      },
      "source": [
        "path = '/content/idenprof'"
      ],
      "execution_count": null,
      "outputs": []
    },
    {
      "cell_type": "code",
      "metadata": {
        "id": "ZFntEc3LrVER"
      },
      "source": [
        "# useful for getting number of output classes\n",
        "folders = glob(path + '/train/*')"
      ],
      "execution_count": null,
      "outputs": []
    },
    {
      "cell_type": "code",
      "metadata": {
        "id": "1lfaqZDHqk8d"
      },
      "source": [
        "# re-size all the images to this\n",
        "IMAGE_SIZE = [224, 224]\n",
        "\n",
        "train_path = path + '/train'\n",
        "valid_path = path + '/test'"
      ],
      "execution_count": null,
      "outputs": []
    },
    {
      "cell_type": "code",
      "metadata": {
        "id": "gB547Cxaqtpi"
      },
      "source": [
        "# Here we will be using imagenet weights\n",
        "\n",
        "vgg = VGG16(input_shape=IMAGE_SIZE + [3], weights='imagenet', include_top=False)"
      ],
      "execution_count": null,
      "outputs": []
    },
    {
      "cell_type": "code",
      "metadata": {
        "id": "G3DZJ5TwrIYg"
      },
      "source": [
        "# don't train existing weights(freeze layers)\n",
        "for layer in vgg.layers:\n",
        "    layer.trainable = False"
      ],
      "execution_count": null,
      "outputs": []
    },
    {
      "cell_type": "code",
      "metadata": {
        "id": "ACcrGAV0rIdO"
      },
      "source": [
        "# our layers - you can add more if you want\n",
        "x = Flatten()(vgg.output)"
      ],
      "execution_count": null,
      "outputs": []
    },
    {
      "cell_type": "code",
      "metadata": {
        "id": "WyCllqhxrIin"
      },
      "source": [
        "# last layer for vgg model with classes to predict\n",
        "prediction = Dense(len(folders), activation='softmax')(x)\n",
        "\n",
        "# create a model object\n",
        "model = Model(inputs=vgg.input, outputs=prediction)"
      ],
      "execution_count": null,
      "outputs": []
    },
    {
      "cell_type": "code",
      "metadata": {
        "colab": {
          "base_uri": "https://localhost:8080/"
        },
        "id": "8rv0k-aVlZ4f",
        "outputId": "64c62bf0-c87d-4271-d0ad-8c094bf66436"
      },
      "source": [
        "# view the structure of the model\n",
        "model.summary()"
      ],
      "execution_count": null,
      "outputs": [
        {
          "output_type": "stream",
          "text": [
            "Model: \"model_2\"\n",
            "_________________________________________________________________\n",
            "Layer (type)                 Output Shape              Param #   \n",
            "=================================================================\n",
            "input_3 (InputLayer)         [(None, 224, 224, 3)]     0         \n",
            "_________________________________________________________________\n",
            "block1_conv1 (Conv2D)        (None, 224, 224, 64)      1792      \n",
            "_________________________________________________________________\n",
            "block1_conv2 (Conv2D)        (None, 224, 224, 64)      36928     \n",
            "_________________________________________________________________\n",
            "block1_pool (MaxPooling2D)   (None, 112, 112, 64)      0         \n",
            "_________________________________________________________________\n",
            "block2_conv1 (Conv2D)        (None, 112, 112, 128)     73856     \n",
            "_________________________________________________________________\n",
            "block2_conv2 (Conv2D)        (None, 112, 112, 128)     147584    \n",
            "_________________________________________________________________\n",
            "block2_pool (MaxPooling2D)   (None, 56, 56, 128)       0         \n",
            "_________________________________________________________________\n",
            "block3_conv1 (Conv2D)        (None, 56, 56, 256)       295168    \n",
            "_________________________________________________________________\n",
            "block3_conv2 (Conv2D)        (None, 56, 56, 256)       590080    \n",
            "_________________________________________________________________\n",
            "block3_conv3 (Conv2D)        (None, 56, 56, 256)       590080    \n",
            "_________________________________________________________________\n",
            "block3_pool (MaxPooling2D)   (None, 28, 28, 256)       0         \n",
            "_________________________________________________________________\n",
            "block4_conv1 (Conv2D)        (None, 28, 28, 512)       1180160   \n",
            "_________________________________________________________________\n",
            "block4_conv2 (Conv2D)        (None, 28, 28, 512)       2359808   \n",
            "_________________________________________________________________\n",
            "block4_conv3 (Conv2D)        (None, 28, 28, 512)       2359808   \n",
            "_________________________________________________________________\n",
            "block4_pool (MaxPooling2D)   (None, 14, 14, 512)       0         \n",
            "_________________________________________________________________\n",
            "block5_conv1 (Conv2D)        (None, 14, 14, 512)       2359808   \n",
            "_________________________________________________________________\n",
            "block5_conv2 (Conv2D)        (None, 14, 14, 512)       2359808   \n",
            "_________________________________________________________________\n",
            "block5_conv3 (Conv2D)        (None, 14, 14, 512)       2359808   \n",
            "_________________________________________________________________\n",
            "block5_pool (MaxPooling2D)   (None, 7, 7, 512)         0         \n",
            "_________________________________________________________________\n",
            "flatten_2 (Flatten)          (None, 25088)             0         \n",
            "_________________________________________________________________\n",
            "dense_2 (Dense)              (None, 10)                250890    \n",
            "=================================================================\n",
            "Total params: 14,965,578\n",
            "Trainable params: 250,890\n",
            "Non-trainable params: 14,714,688\n",
            "_________________________________________________________________\n"
          ],
          "name": "stdout"
        }
      ]
    },
    {
      "cell_type": "code",
      "metadata": {
        "id": "yJ-c-IWzlZ1x"
      },
      "source": [
        "# tell the model what cost and optimization method to use\n",
        "model.compile(\n",
        "  loss='categorical_crossentropy',\n",
        "  optimizer='adam',\n",
        "  metrics=['accuracy']\n",
        ")"
      ],
      "execution_count": null,
      "outputs": []
    },
    {
      "cell_type": "code",
      "metadata": {
        "id": "YYF28VEzlZqZ"
      },
      "source": [
        "### Optional step(as my data is good in lenght so not required)\n",
        "# Use the Image Data Generator to import the images from the dataset\n",
        "from tensorflow.keras.preprocessing.image import ImageDataGenerator\n",
        "\n",
        "train_datagen = ImageDataGenerator(rescale = 1./255)\n",
        "                                  #  shear_range = 0.2,\n",
        "                                  #  zoom_range = 0.2,\n",
        "                                  #  horizontal_flip = True)\n",
        "\n",
        "test_datagen = ImageDataGenerator(rescale = 1./255)"
      ],
      "execution_count": null,
      "outputs": []
    },
    {
      "cell_type": "code",
      "metadata": {
        "colab": {
          "base_uri": "https://localhost:8080/"
        },
        "id": "CW2WoTxwsGvY",
        "outputId": "b34b8e28-a004-4cf1-a546-758c80329d07"
      },
      "source": [
        "# Make sure you provide the same target size as initialied for the image size\n",
        "training_set = train_datagen.flow_from_directory(train_path,\n",
        "                                                 target_size = (224, 224),\n",
        "                                                 batch_size = 32,\n",
        "                                                 class_mode = 'categorical')"
      ],
      "execution_count": null,
      "outputs": [
        {
          "output_type": "stream",
          "text": [
            "Found 9000 images belonging to 10 classes.\n"
          ],
          "name": "stdout"
        }
      ]
    },
    {
      "cell_type": "code",
      "metadata": {
        "colab": {
          "base_uri": "https://localhost:8080/"
        },
        "id": "-jkeDMgBsPi6",
        "outputId": "e82a185c-60da-4855-85d3-257dc4093dac"
      },
      "source": [
        "test_set = test_datagen.flow_from_directory(valid_path,\n",
        "                                            target_size = (224, 224),\n",
        "                                            batch_size = 32,\n",
        "                                            class_mode = 'categorical')\n"
      ],
      "execution_count": null,
      "outputs": [
        {
          "output_type": "stream",
          "text": [
            "Found 2000 images belonging to 10 classes.\n"
          ],
          "name": "stdout"
        }
      ]
    },
    {
      "cell_type": "code",
      "metadata": {
        "colab": {
          "base_uri": "https://localhost:8080/"
        },
        "id": "OpTWb7kWsPoe",
        "outputId": "8bc2ae58-1fa9-4b94-d70b-037942c642de"
      },
      "source": [
        "# fit the model\n",
        "# Run the cell. It will take some time to execute\n",
        "r = model.fit_generator(\n",
        "  training_set,\n",
        "  validation_data=test_set,\n",
        "  epochs=10,\n",
        "  steps_per_epoch=len(training_set),\n",
        "  validation_steps=len(test_set)\n",
        ")"
      ],
      "execution_count": null,
      "outputs": [
        {
          "output_type": "stream",
          "text": [
            "/usr/local/lib/python3.7/dist-packages/tensorflow/python/keras/engine/training.py:1844: UserWarning: `Model.fit_generator` is deprecated and will be removed in a future version. Please use `Model.fit`, which supports generators.\n",
            "  warnings.warn('`Model.fit_generator` is deprecated and '\n"
          ],
          "name": "stderr"
        },
        {
          "output_type": "stream",
          "text": [
            "Epoch 1/10\n",
            "282/282 [==============================] - 53s 185ms/step - loss: 1.5409 - accuracy: 0.5182 - val_loss: 1.0635 - val_accuracy: 0.6805\n",
            "Epoch 2/10\n",
            "282/282 [==============================] - 45s 161ms/step - loss: 0.3993 - accuracy: 0.8674 - val_loss: 0.8487 - val_accuracy: 0.7365\n",
            "Epoch 3/10\n",
            "282/282 [==============================] - 46s 164ms/step - loss: 0.1777 - accuracy: 0.9537 - val_loss: 0.9493 - val_accuracy: 0.7285\n",
            "Epoch 4/10\n",
            "282/282 [==============================] - 46s 162ms/step - loss: 0.0927 - accuracy: 0.9849 - val_loss: 0.9258 - val_accuracy: 0.7355\n",
            "Epoch 5/10\n",
            "282/282 [==============================] - 46s 163ms/step - loss: 0.0455 - accuracy: 0.9972 - val_loss: 0.8686 - val_accuracy: 0.7545\n",
            "Epoch 6/10\n",
            "282/282 [==============================] - 46s 163ms/step - loss: 0.0315 - accuracy: 0.9981 - val_loss: 0.8606 - val_accuracy: 0.7610\n",
            "Epoch 7/10\n",
            "282/282 [==============================] - 46s 162ms/step - loss: 0.0268 - accuracy: 0.9981 - val_loss: 0.8848 - val_accuracy: 0.7600\n",
            "Epoch 8/10\n",
            "282/282 [==============================] - 46s 162ms/step - loss: 0.0196 - accuracy: 0.9985 - val_loss: 0.9396 - val_accuracy: 0.7565\n",
            "Epoch 9/10\n",
            "282/282 [==============================] - 46s 163ms/step - loss: 0.0177 - accuracy: 0.9989 - val_loss: 0.8854 - val_accuracy: 0.7635\n",
            "Epoch 10/10\n",
            "282/282 [==============================] - 46s 163ms/step - loss: 0.0090 - accuracy: 0.9998 - val_loss: 0.9543 - val_accuracy: 0.7565\n"
          ],
          "name": "stdout"
        }
      ]
    },
    {
      "cell_type": "code",
      "metadata": {
        "colab": {
          "base_uri": "https://localhost:8080/",
          "height": 530
        },
        "id": "NFI7-ETdsPuQ",
        "outputId": "9d15dce7-a468-445a-fc07-69665d8ba27e"
      },
      "source": [
        "# plot the loss\n",
        "plt.plot(r.history['loss'], label='train loss')\n",
        "plt.plot(r.history['val_loss'], label='val loss')\n",
        "plt.legend()\n",
        "plt.show()\n",
        "\n",
        "# plot the accuracy\n",
        "plt.plot(r.history['accuracy'], label='train acc')\n",
        "plt.plot(r.history['val_accuracy'], label='val acc')\n",
        "plt.legend()\n",
        "plt.show()"
      ],
      "execution_count": null,
      "outputs": [
        {
          "output_type": "display_data",
          "data": {
            "image/png": "[encoded data removed]",
            "text/plain": [
              "<Figure size 432x288 with 1 Axes>"
            ]
          },
          "metadata": {
            "tags": [],
            "needs_background": "light"
          }
        },
        {
          "output_type": "display_data",
          "data": {
            "image/png": "[encoded data removed]",
            "text/plain": [
              "<Figure size 432x288 with 1 Axes>"
            ]
          },
          "metadata": {
            "tags": [],
            "needs_background": "light"
          }
        },
        {
          "output_type": "display_data",
          "data": {
            "text/plain": [
              "<Figure size 432x288 with 0 Axes>"
            ]
          },
          "metadata": {
            "tags": []
          }
        }
      ]
    },
    {
      "cell_type": "code",
      "metadata": {
        "id": "Hnz3Uz2UssFQ"
      },
      "source": [
        ""
      ],
      "execution_count": null,
      "outputs": []
    },
    {
      "cell_type": "markdown",
      "metadata": {
        "id": "JxTUOOLFthjZ"
      },
      "source": [
        "Validating how model is working "
      ]
    },
    {
      "cell_type": "code",
      "metadata": {
        "id": "RYAZtSNYssOB"
      },
      "source": [
        "from tensorflow.keras.models import load_model\n",
        "from tensorflow.keras.preprocessing import image\n",
        "import numpy as np\n",
        "\n",
        "model.save('model_vgg.h5')"
      ],
      "execution_count": null,
      "outputs": []
    },
    {
      "cell_type": "code",
      "metadata": {
        "id": "bBHU3KRtaoZd"
      },
      "source": [
        "!cp '/content/model_vgg.h5' '/content/drive/MyDrive/Colab Notebooks'"
      ],
      "execution_count": null,
      "outputs": []
    },
    {
      "cell_type": "code",
      "metadata": {
        "id": "gEdEvl-iovB-"
      },
      "source": [
        "y_pred = model.predict(test_set)\n",
        "y_pred = np.argmax(y_pred, axis=1)"
      ],
      "execution_count": null,
      "outputs": []
    },
    {
      "cell_type": "code",
      "metadata": {
        "id": "M6SSXfw1sscU"
      },
      "source": [
        "model=load_model('model_vgg.h5')"
      ],
      "execution_count": null,
      "outputs": []
    },
    {
      "cell_type": "code",
      "metadata": {
        "id": "6qjZ_8_atAM4"
      },
      "source": [
        "img=image.load_img(path + '/test/police/police-103.jpg', target_size=(224,224))"
      ],
      "execution_count": null,
      "outputs": []
    },
    {
      "cell_type": "code",
      "metadata": {
        "colab": {
          "base_uri": "https://localhost:8080/"
        },
        "id": "nO9BWGpYtAV1",
        "outputId": "c0308695-2983-47da-9f69-4401b7822433"
      },
      "source": [
        "x=image.img_to_array(img)\n",
        "X=img\n",
        "x=x/255\n",
        "x.shape"
      ],
      "execution_count": null,
      "outputs": [
        {
          "output_type": "execute_result",
          "data": {
            "text/plain": [
              "(224, 224, 3)"
            ]
          },
          "metadata": {
            "tags": []
          },
          "execution_count": 76
        }
      ]
    },
    {
      "cell_type": "code",
      "metadata": {
        "colab": {
          "base_uri": "https://localhost:8080/"
        },
        "id": "DfRb4KjntAdC",
        "outputId": "12021cec-cad9-45e6-ce43-d3b6f019ef2b"
      },
      "source": [
        "x=np.expand_dims(x,axis=0)\n",
        "img_data=preprocess_input(x)\n",
        "img_data.shape"
      ],
      "execution_count": null,
      "outputs": [
        {
          "output_type": "execute_result",
          "data": {
            "text/plain": [
              "(1, 224, 224, 3)"
            ]
          },
          "metadata": {
            "tags": []
          },
          "execution_count": 79
        }
      ]
    },
    {
      "cell_type": "code",
      "metadata": {
        "colab": {
          "base_uri": "https://localhost:8080/"
        },
        "id": "zY8VaapKtJHl",
        "outputId": "403e8dd9-6328-4918-aa29-101f4ae02041"
      },
      "source": [
        "model.predict(img_data)\n",
        "a=np.argmax(model.predict(img_data), axis=1)\n",
        "a"
      ],
      "execution_count": null,
      "outputs": [
        {
          "output_type": "execute_result",
          "data": {
            "text/plain": [
              "array([4])"
            ]
          },
          "metadata": {
            "tags": []
          },
          "execution_count": 80
        }
      ]
    }
  ]
}