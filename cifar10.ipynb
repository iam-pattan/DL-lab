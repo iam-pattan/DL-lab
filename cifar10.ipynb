{
  "nbformat": 4,
  "nbformat_minor": 0,
  "metadata": {
    "colab": {
      "name": "cifar10.ipynb",
      "provenance": [],
      "collapsed_sections": [],
      "include_colab_link": true
    },
    "kernelspec": {
      "name": "python3",
      "display_name": "Python 3"
    },
    "accelerator": "GPU"
  },
  "cells": [
    {
      "cell_type": "markdown",
      "metadata": {
        "id": "view-in-github",
        "colab_type": "text"
      },
      "source": [
        "<a href=\"https://colab.research.google.com/github/iam-pattan/DL-lab/blob/main/cifar10.ipynb\" target=\"_parent\"><img src=\"https://colab.research.google.com/assets/colab-badge.svg\" alt=\"Open In Colab\"/></a>"
      ]
    },
    {
      "cell_type": "code",
      "metadata": {
        "id": "Du9JyLOGnyet"
      },
      "source": [
        "import tensorflow as tf\n",
        "from tensorflow.keras  import datasets, layers, models\n",
        "import matplotlib.pyplot as plt"
      ],
      "execution_count": null,
      "outputs": []
    },
    {
      "cell_type": "code",
      "metadata": {
        "id": "pYk7dKt1okxR",
        "colab": {
          "base_uri": "https://localhost:8080/"
        },
        "outputId": "ff34b431-223d-4a8b-d82d-daf8cfe56332"
      },
      "source": [
        "(x_train, y_train),(x_test, y_test) = datasets.cifar10.load_data()\n",
        "\n",
        "x_train , x_test= x_train/255.0 , x_test/255.0"
      ],
      "execution_count": null,
      "outputs": [
        {
          "output_type": "stream",
          "text": [
            "Downloading data from https://www.cs.toronto.edu/~kriz/cifar-10-python.tar.gz\n",
            "170500096/170498071 [==============================] - 2s 0us/step\n"
          ],
          "name": "stdout"
        }
      ]
    },
    {
      "cell_type": "code",
      "metadata": {
        "colab": {
          "base_uri": "https://localhost:8080/"
        },
        "id": "OO-M23uDsgYd",
        "outputId": "6d844df4-9a63-4c2c-e478-239568a8517c"
      },
      "source": [
        "x_train.shape, y_train.shape"
      ],
      "execution_count": null,
      "outputs": [
        {
          "output_type": "execute_result",
          "data": {
            "text/plain": [
              "((50000, 32, 32, 3), (50000, 1))"
            ]
          },
          "metadata": {
            "tags": []
          },
          "execution_count": 12
        }
      ]
    },
    {
      "cell_type": "code",
      "metadata": {
        "id": "jOsp4EZIq2rv"
      },
      "source": [
        "model = tf.keras.models.Sequential([\n",
        "    tf.keras.layers.Conv2D(512, (3,3), padding='same', activation='relu', input_shape=(32,32,3)),\n",
        "    tf.keras.layers.MaxPooling2D(2, 2),\n",
        "    tf.keras.layers.Dropout (0.2),\n",
        "    tf.keras.layers.Conv2D(512, (3,3), padding='same', activation='relu', input_shape=(32,32,3)),\n",
        "    tf.keras.layers.MaxPooling2D(2, 2),\n",
        "    tf.keras.layers.Dropout (0.2),\n",
        "    tf.keras.layers.Conv2D(128, (3,3), padding='same', activation='relu'),\n",
        "    tf.keras.layers.MaxPooling2D(2,2),\n",
        "    tf.keras.layers.Dropout (0.2),\n",
        "    tf.keras.layers.Conv2D(64, (3,3), padding='same', activation='relu'),\n",
        "    tf.keras.layers.MaxPooling2D(2,2),\n",
        "    tf.keras.layers.Dropout (0.2),\n",
        "    tf.keras.layers.Conv2D(32, (3,3), padding='same', activation='relu'),\n",
        "    tf.keras.layers.MaxPooling2D(2,2),\n",
        "    \n",
        "    tf.keras.layers.Flatten(),\n",
        "    tf.keras.layers.Dense(64, activation='relu'),\n",
        "    tf.keras.layers.Dense(10)\n",
        "])"
      ],
      "execution_count": null,
      "outputs": []
    },
    {
      "cell_type": "code",
      "metadata": {
        "id": "0SWhzRehrYj_"
      },
      "source": [
        "loss_fn = tf.keras.losses.SparseCategoricalCrossentropy(from_logits=True)"
      ],
      "execution_count": null,
      "outputs": []
    },
    {
      "cell_type": "code",
      "metadata": {
        "id": "6GeCEzkjrpVz"
      },
      "source": [
        "model.compile(optimizer='adam',\n",
        "loss=loss_fn,\n",
        "metrics=['accuracy'])"
      ],
      "execution_count": null,
      "outputs": []
    },
    {
      "cell_type": "code",
      "metadata": {
        "colab": {
          "base_uri": "https://localhost:8080/"
        },
        "id": "u_JiMqgrrwQR",
        "outputId": "393f59d8-a145-4579-832e-1dfcd6248515"
      },
      "source": [
        "history = model.fit(x_train, y_train, validation_data=(x_test, y_test), batch_size=64, epochs=15)"
      ],
      "execution_count": null,
      "outputs": [
        {
          "output_type": "stream",
          "text": [
            "Epoch 1/15\n",
            "782/782 [==============================] - 53s 68ms/step - loss: 0.4999 - accuracy: 0.8260 - val_loss: 0.6164 - val_accuracy: 0.7923\n",
            "Epoch 2/15\n",
            "782/782 [==============================] - 53s 68ms/step - loss: 0.4827 - accuracy: 0.8302 - val_loss: 0.5938 - val_accuracy: 0.7993\n",
            "Epoch 3/15\n",
            "782/782 [==============================] - 53s 68ms/step - loss: 0.4802 - accuracy: 0.8316 - val_loss: 0.6019 - val_accuracy: 0.8045\n",
            "Epoch 4/15\n",
            "782/782 [==============================] - 53s 68ms/step - loss: 0.4698 - accuracy: 0.8369 - val_loss: 0.6174 - val_accuracy: 0.7940\n",
            "Epoch 5/15\n",
            "782/782 [==============================] - 53s 68ms/step - loss: 0.4593 - accuracy: 0.8382 - val_loss: 0.5962 - val_accuracy: 0.8004\n",
            "Epoch 6/15\n",
            "782/782 [==============================] - 53s 68ms/step - loss: 0.4560 - accuracy: 0.8404 - val_loss: 0.5816 - val_accuracy: 0.8070\n",
            "Epoch 7/15\n",
            "782/782 [==============================] - 53s 68ms/step - loss: 0.4496 - accuracy: 0.8430 - val_loss: 0.5952 - val_accuracy: 0.8058\n",
            "Epoch 8/15\n",
            "782/782 [==============================] - 53s 68ms/step - loss: 0.4399 - accuracy: 0.8451 - val_loss: 0.6022 - val_accuracy: 0.8020\n",
            "Epoch 9/15\n",
            "782/782 [==============================] - 53s 68ms/step - loss: 0.4418 - accuracy: 0.8450 - val_loss: 0.6111 - val_accuracy: 0.8009\n",
            "Epoch 10/15\n",
            "782/782 [==============================] - 53s 68ms/step - loss: 0.4314 - accuracy: 0.8485 - val_loss: 0.5873 - val_accuracy: 0.8110\n",
            "Epoch 11/15\n",
            "782/782 [==============================] - 53s 68ms/step - loss: 0.4246 - accuracy: 0.8518 - val_loss: 0.5902 - val_accuracy: 0.8083\n",
            "Epoch 12/15\n",
            "782/782 [==============================] - 53s 68ms/step - loss: 0.4194 - accuracy: 0.8553 - val_loss: 0.5933 - val_accuracy: 0.8063\n",
            "Epoch 13/15\n",
            "782/782 [==============================] - 53s 68ms/step - loss: 0.4089 - accuracy: 0.8559 - val_loss: 0.5868 - val_accuracy: 0.8132\n",
            "Epoch 14/15\n",
            "782/782 [==============================] - 53s 68ms/step - loss: 0.4071 - accuracy: 0.8571 - val_loss: 0.6000 - val_accuracy: 0.8043\n",
            "Epoch 15/15\n",
            "782/782 [==============================] - 53s 68ms/step - loss: 0.4022 - accuracy: 0.8596 - val_loss: 0.6056 - val_accuracy: 0.8013\n"
          ],
          "name": "stdout"
        }
      ]
    },
    {
      "cell_type": "code",
      "metadata": {
        "id": "JN_UNgGVsbZG",
        "colab": {
          "base_uri": "https://localhost:8080/"
        },
        "outputId": "9164486e-74b4-4d6b-99c1-3a4c2544af23"
      },
      "source": [
        "model.evaluate(x_test, y_test, verbose=2)"
      ],
      "execution_count": null,
      "outputs": [
        {
          "output_type": "stream",
          "text": [
            "313/313 - 4s - loss: 0.6056 - accuracy: 0.8013\n"
          ],
          "name": "stdout"
        },
        {
          "output_type": "execute_result",
          "data": {
            "text/plain": [
              "[0.6056419014930725, 0.8012999892234802]"
            ]
          },
          "metadata": {
            "tags": []
          },
          "execution_count": 10
        }
      ]
    },
    {
      "cell_type": "code",
      "metadata": {
        "id": "kFidychSvRK5",
        "colab": {
          "base_uri": "https://localhost:8080/",
          "height": 279
        },
        "outputId": "0e4f52f5-e6e8-4a6d-c27c-160f45818c63"
      },
      "source": [
        "#plot\n",
        "figure= plt.figure(figsize=(10,4))\n",
        "ax = plt.subplot(121)\n",
        "ax.plot(history.history['loss'], 'r')\n",
        "plt.grid(axis='y')\n",
        "plt.xlabel(\"epoch\")\n",
        "plt.ylabel(\"Loss\")\n",
        "ax2 = plt.subplot(122)\n",
        "ax2.plot(history.history['accuracy'], 'b')\n",
        "plt.xlabel(\"epoch\")\n",
        "plt.ylabel(\"accuracy\")\n",
        "plt.grid(axis='y')\n",
        "#plt.savefig(\"cifar10\")"
      ],
      "execution_count": null,
      "outputs": [
        {
          "output_type": "display_data",
          "data": {
            "image/png": "[encoded data removed]",
            "text/plain": [
              "<Figure size 720x288 with 2 Axes>"
            ]
          },
          "metadata": {
            "tags": [],
            "needs_background": "light"
          }
        }
      ]
    },
    {
      "cell_type": "markdown",
      "metadata": {
        "id": "rDGFP4CL0Aeu"
      },
      "source": [
        "Training accuracy of `85.96`\n",
        "\n",
        "Validation accuracy of `80.13`"
      ]
    }
  ]
}